{
 "cells": [
  {
   "attachments": {},
   "cell_type": "markdown",
   "metadata": {},
   "source": [
    "#### Лаба 3\n",
    "\n",
    "#### задачи траекторного управления"
   ]
  },
  {
   "attachments": {},
   "cell_type": "markdown",
   "metadata": {},
   "source": [
    "### Given"
   ]
  },
  {
   "cell_type": "code",
   "execution_count": 604,
   "metadata": {},
   "outputs": [],
   "source": [
    "import sympy as sm\n",
    "import numpy as np\n",
    "import scipy as sp\n",
    "import matplotlib.pyplot as plt\n",
    "from IPython.display import display, Math\n",
    "import inspect\n",
    "import bisect"
   ]
  },
  {
   "cell_type": "code",
   "execution_count": 605,
   "metadata": {},
   "outputs": [],
   "source": [
    "# robot model parameters\n",
    "m = 2.8 # in kg\n",
    "J = 3 # in kg*m"
   ]
  },
  {
   "cell_type": "code",
   "execution_count": 606,
   "metadata": {},
   "outputs": [],
   "source": [
    "x, y, omega, alpha, alpha_asterisk, vx, vy, Fx, Fy, M  = sm.symbols(\"x y omega alpha alpha_asterisk vx vy Fx Fy M\")\n",
    "A = sm.Matrix( [[1/m,0,0],[0,1/m,0],[0,0,1/J]] )\n",
    "z = sm.Matrix( [[vx],[vy],[omega]] ) # in m frame\n",
    "u = sm.Matrix( [[Fx],[Fy],[M]] )\n",
    "R = sm.Matrix( [[sm.cos(alpha),sm.sin(alpha)],[-sm.sin(alpha),sm.cos(alpha)]] ) # from mobile to base"
   ]
  },
  {
   "cell_type": "code",
   "execution_count": 607,
   "metadata": {},
   "outputs": [],
   "source": [
    "def display_expr(expr):\n",
    "    frame = inspect.currentframe()\n",
    "    frame = inspect.getouterframes(frame)[1]\n",
    "    string = inspect.getframeinfo(frame[0]).code_context[0].strip()\n",
    "    args = string[string.find('(') + 1:-1].split(',')\n",
    "    \n",
    "    names = []\n",
    "    for i in args:\n",
    "        if i.find('=') != -1:\n",
    "            names.append(i.split('=')[1].strip())\n",
    "        else:\n",
    "            names.append(i)\n",
    "    if names[0]=='phi_1':\n",
    "        names[0] = '\\\\varphi_1'\n",
    "    if names[0]=='phi_2':\n",
    "        names[0] = '\\\\varphi_2'\n",
    "    if names[0]=='phi_3':\n",
    "        names[0] = '\\\\varphi_3'\n",
    "    if names[0]=='vm':\n",
    "        names[0] = 'v_m'\n",
    "    if names[0]=='vb':\n",
    "        names[0] = 'v_b'\n",
    "    if names[0]=='dots':\n",
    "        names[0] = '\\\\dot s'\n",
    "    if names[0]=='dote':\n",
    "        names[0] = '\\\\dot e'\n",
    "    if names[0]=='xi':\n",
    "        names[0] = '\\\\xi'\n",
    "\n",
    "    expr = expr.xreplace({n : round(n, 3) for n in expr.atoms(sm.Number)})\n",
    "    str = sm.latex(expr)\n",
    "    # str = str.replace('\\\\theta','\\\\vartheta')\n",
    "    str = str.replace('vx','v_x')\n",
    "    str = str.replace('vy','v_y')\n",
    "    str = str.replace('Fx','F_x')\n",
    "    str = str.replace('Fy','F_y') \n",
    "    str = str.replace('\\\\alpha_{asterisk}','\\\\alpha^{*}')\n",
    "    str = str.replace('dotxi','\\\\dot \\\\xi')\n",
    "    # str = str.replace('xi','\\\\xi') \n",
    "\n",
    "    display(Math(names[0] + '=' + str))    "
   ]
  },
  {
   "cell_type": "code",
   "execution_count": 608,
   "metadata": {},
   "outputs": [
    {
     "data": {
      "text/latex": [
       "$\\displaystyle Au=\\left[\\begin{matrix}0.357 F_x\\\\0.357 F_y\\\\0.333 M\\end{matrix}\\right]$"
      ],
      "text/plain": [
       "<IPython.core.display.Math object>"
      ]
     },
     "metadata": {},
     "output_type": "display_data"
    }
   ],
   "source": [
    "Au = A*u\n",
    "display_expr(Au)"
   ]
  },
  {
   "cell_type": "code",
   "execution_count": 609,
   "metadata": {},
   "outputs": [
    {
     "data": {
      "text/latex": [
       "$\\displaystyle v_m=\\left[\\begin{matrix}v_x\\\\v_y\\end{matrix}\\right]$"
      ],
      "text/plain": [
       "<IPython.core.display.Math object>"
      ]
     },
     "metadata": {},
     "output_type": "display_data"
    },
    {
     "data": {
      "text/latex": [
       "$\\displaystyle v_b=\\left[\\begin{matrix}v_x \\cos{\\left(\\alpha \\right)} + v_y \\sin{\\left(\\alpha \\right)}\\\\- v_x \\sin{\\left(\\alpha \\right)} + v_y \\cos{\\left(\\alpha \\right)}\\end{matrix}\\right]$"
      ],
      "text/plain": [
       "<IPython.core.display.Math object>"
      ]
     },
     "metadata": {},
     "output_type": "display_data"
    },
    {
     "data": {
      "text/latex": [
       "$\\displaystyle \\dot s=- \\left(- v_x \\sin{\\left(\\alpha \\right)} + v_y \\cos{\\left(\\alpha \\right)}\\right) \\sin{\\left(\\alpha^{*} \\right)} + \\left(v_x \\cos{\\left(\\alpha \\right)} + v_y \\sin{\\left(\\alpha \\right)}\\right) \\cos{\\left(\\alpha^{*} \\right)}$"
      ],
      "text/plain": [
       "<IPython.core.display.Math object>"
      ]
     },
     "metadata": {},
     "output_type": "display_data"
    },
    {
     "data": {
      "text/latex": [
       "$\\displaystyle \\dot e=\\left(- v_x \\sin{\\left(\\alpha \\right)} + v_y \\cos{\\left(\\alpha \\right)}\\right) \\cos{\\left(\\alpha^{*} \\right)} + \\left(v_x \\cos{\\left(\\alpha \\right)} + v_y \\sin{\\left(\\alpha \\right)}\\right) \\sin{\\left(\\alpha^{*} \\right)}$"
      ],
      "text/plain": [
       "<IPython.core.display.Math object>"
      ]
     },
     "metadata": {},
     "output_type": "display_data"
    }
   ],
   "source": [
    "vm = sm.Matrix([[vx],[vy]])\n",
    "display_expr(vm)\n",
    "vb = R*vm\n",
    "display_expr(vb)\n",
    "dots = (sm.transpose(R.subs(alpha,alpha_asterisk))*vb)[0]\n",
    "display_expr(dots)\n",
    "dote = (sm.transpose(R.subs(alpha,alpha_asterisk))*vb)[1]\n",
    "display_expr(dote)"
   ]
  },
  {
   "cell_type": "code",
   "execution_count": 610,
   "metadata": {},
   "outputs": [
    {
     "data": {
      "text/latex": [
       "$\\displaystyle a=\\left[\\begin{matrix}0.357 F_x \\cos{\\left(\\alpha \\right)} - 0.357 F_y \\sin{\\left(\\alpha \\right)}\\\\0.357 F_x \\sin{\\left(\\alpha \\right)} + 0.357 F_y \\cos{\\left(\\alpha \\right)}\\end{matrix}\\right]$"
      ],
      "text/plain": [
       "<IPython.core.display.Math object>"
      ]
     },
     "metadata": {},
     "output_type": "display_data"
    }
   ],
   "source": [
    "a = (1/m)*sm.transpose(R)*sm.Matrix([[Fx],[Fy]])\n",
    "display_expr(a)"
   ]
  },
  {
   "attachments": {},
   "cell_type": "markdown",
   "metadata": {},
   "source": [
    "### Traj phi"
   ]
  },
  {
   "cell_type": "code",
   "execution_count": 611,
   "metadata": {},
   "outputs": [
    {
     "data": {
      "text/latex": [
       "$\\displaystyle \\varphi_1=\\left(x + 3\\right)^{2} + \\left(y - 2\\right)^{2} - 9$"
      ],
      "text/plain": [
       "<IPython.core.display.Math object>"
      ]
     },
     "metadata": {},
     "output_type": "display_data"
    },
    {
     "data": {
      "text/latex": [
       "$\\displaystyle \\varphi_2=y - 2 \\cos{\\left(0.5 x + 0.3 \\right)} - 2$"
      ],
      "text/plain": [
       "<IPython.core.display.Math object>"
      ]
     },
     "metadata": {},
     "output_type": "display_data"
    },
    {
     "data": {
      "text/latex": [
       "$\\displaystyle \\varphi_3=\\left(x - 12\\right)^{2} + \\left(y - 2\\right)^{2} - 25$"
      ],
      "text/plain": [
       "<IPython.core.display.Math object>"
      ]
     },
     "metadata": {},
     "output_type": "display_data"
    }
   ],
   "source": [
    "#trajectory\n",
    "x0 = -7\n",
    "y0 = 4\n",
    "alpha0 = 3*np.pi/4\n",
    "vs_des1 = 1 \n",
    "vs_des2 = 3\n",
    "vs_des3 = 5\n",
    "\n",
    "R1 = 3\n",
    "xc1 = -3\n",
    "yc1 = 2\n",
    "R3 = 5\n",
    "xc3 = 12\n",
    "yc3 = 2\n",
    "phi_1 = (x-xc1)**2+(y-yc1)**2-R1**2\n",
    "phi_2 = -2*sm.cos(0.5*x+0.3)+y-2\n",
    "phi_3 = (x-xc3)**2 + (y-yc3)**2 - R3**2\n",
    "display_expr(phi_1)\n",
    "display_expr(phi_2)\n",
    "display_expr(phi_3)"
   ]
  },
  {
   "cell_type": "code",
   "execution_count": 612,
   "metadata": {},
   "outputs": [
    {
     "data": {
      "text/latex": [
       "$\\displaystyle \\left[ 2 - \\sqrt{- x \\left(x + 6\\right)}, \\  \\sqrt{- x \\left(x + 6\\right)} + 2\\right]$"
      ],
      "text/plain": [
       "<IPython.core.display.Math object>"
      ]
     },
     "metadata": {},
     "output_type": "display_data"
    }
   ],
   "source": [
    "calc_phi_1_y = sm.solve(phi_1, y)\n",
    "display(Math(sm.latex(calc_phi_1_y)))"
   ]
  },
  {
   "cell_type": "code",
   "execution_count": 613,
   "metadata": {},
   "outputs": [
    {
     "data": {
      "text/latex": [
       "$\\displaystyle \\left[ 2.0 \\cos{\\left(0.5 x + 0.3 \\right)} + 2.0\\right]$"
      ],
      "text/plain": [
       "<IPython.core.display.Math object>"
      ]
     },
     "metadata": {},
     "output_type": "display_data"
    }
   ],
   "source": [
    "calc_phi_2_y = sm.solve(phi_2, y)\n",
    "display(Math(sm.latex(calc_phi_2_y)))"
   ]
  },
  {
   "cell_type": "code",
   "execution_count": 614,
   "metadata": {},
   "outputs": [
    {
     "data": {
      "text/latex": [
       "$\\displaystyle \\left[ 2 - \\sqrt{- \\left(x - 17\\right) \\left(x - 7\\right)}, \\  \\sqrt{- \\left(x - 17\\right) \\left(x - 7\\right)} + 2\\right]$"
      ],
      "text/plain": [
       "<IPython.core.display.Math object>"
      ]
     },
     "metadata": {},
     "output_type": "display_data"
    }
   ],
   "source": [
    "calc_phi_3_y = sm.solve(phi_3, y)\n",
    "display(Math(sm.latex(calc_phi_3_y)))"
   ]
  },
  {
   "attachments": {},
   "cell_type": "markdown",
   "metadata": {},
   "source": [
    "### Traj calc"
   ]
  },
  {
   "cell_type": "code",
   "execution_count": 615,
   "metadata": {},
   "outputs": [
    {
     "name": "stdout",
     "output_type": "stream",
     "text": [
      "(x,)\n",
      "(x,)\n",
      "(x,)\n",
      "(x,)\n",
      "(x,)\n"
     ]
    }
   ],
   "source": [
    "params = tuple(calc_phi_1_y[0].free_symbols)\n",
    "print(params)\n",
    "fun_calc_phi_11_y = sm.lambdify(params, calc_phi_1_y[0], modules='numpy')\n",
    "params = tuple(calc_phi_1_y[1].free_symbols)\n",
    "print(params)\n",
    "fun_calc_phi_12_y = sm.lambdify(params, calc_phi_1_y[1], modules='numpy')\n",
    "\n",
    "params = tuple(calc_phi_2_y[0].free_symbols)\n",
    "print(params)\n",
    "fun_calc_phi_2_y = sm.lambdify(params, calc_phi_2_y[0], modules='numpy')\n",
    "\n",
    "params = tuple(calc_phi_3_y[0].free_symbols)\n",
    "print(params)\n",
    "fun_calc_phi_31_y = sm.lambdify(params, calc_phi_3_y[0], modules='numpy')\n",
    "params = tuple(calc_phi_3_y[1].free_symbols)\n",
    "print(params)\n",
    "fun_calc_phi_32_y = sm.lambdify(params, calc_phi_3_y[1], modules='numpy')"
   ]
  },
  {
   "cell_type": "code",
   "execution_count": 616,
   "metadata": {},
   "outputs": [
    {
     "data": {
      "text/plain": [
       "[<matplotlib.lines.Line2D at 0x2bad488aa90>]"
      ]
     },
     "execution_count": 616,
     "metadata": {},
     "output_type": "execute_result"
    },
    {
     "data": {
      "image/png": "[encoded data removed]",
      "text/plain": [
       "<Figure size 640x480 with 1 Axes>"
      ]
     },
     "metadata": {},
     "output_type": "display_data"
    }
   ],
   "source": [
    "x1 = np.arange(xc1-R1,xc1+R1,1e-3)\n",
    "x2 = np.arange(-6,17,1e-2)\n",
    "x3 = np.arange(xc3-R3,xc3+R3,1e-3)\n",
    "plt.plot(x1,fun_calc_phi_11_y(x1))\n",
    "plt.plot(x1,fun_calc_phi_12_y(x1))\n",
    "plt.plot(x2,fun_calc_phi_2_y(x2))\n",
    "plt.plot(x3,fun_calc_phi_31_y(x3))\n",
    "plt.plot(x3,fun_calc_phi_32_y(x3))\n",
    "plt.plot(x0,y0,\"or\")"
   ]
  },
  {
   "cell_type": "code",
   "execution_count": 617,
   "metadata": {},
   "outputs": [
    {
     "name": "stdout",
     "output_type": "stream",
     "text": [
      "-0.7583442022818133\n"
     ]
    }
   ],
   "source": [
    "#поиск точек переключений\n",
    "def calc_fun_optim_finding_x(x):\n",
    "    return (fun_calc_phi_12_y(x)-fun_calc_phi_2_y(x))**2\n",
    "xsw1 = sp.optimize.minimize_scalar(calc_fun_optim_finding_x,bounds=(xc1-R1,xc1+R1),method='bounded').x\n",
    "print(xsw1)"
   ]
  },
  {
   "cell_type": "code",
   "execution_count": 618,
   "metadata": {},
   "outputs": [
    {
     "name": "stdout",
     "output_type": "stream",
     "text": [
      "16.775623130982034\n"
     ]
    }
   ],
   "source": [
    "def calc_fun_optim_finding_x(x):\n",
    "    return (fun_calc_phi_2_y(x)-fun_calc_phi_31_y(x))**2\n",
    "xsw2 = sp.optimize.minimize_scalar(calc_fun_optim_finding_x,bounds=(xc3,xc3+R3),method='bounded').x\n",
    "print(xsw2)\n",
    "xsw3 = xc3-R3"
   ]
  },
  {
   "cell_type": "code",
   "execution_count": 619,
   "metadata": {},
   "outputs": [
    {
     "data": {
      "image/png": "[encoded data removed]",
      "text/plain": [
       "<Figure size 640x480 with 1 Axes>"
      ]
     },
     "metadata": {},
     "output_type": "display_data"
    }
   ],
   "source": [
    "# desired traj\n",
    "x1 = np.arange(xc1-R1,xsw1,1e-3)\n",
    "x2 = np.arange(xsw1,xsw2,1e-2)\n",
    "x3 = np.arange(xsw3,xsw2,1e-3)\n",
    "x4 = np.arange(xsw3,xc3+R3,1e-3)\n",
    "plt.plot(x1,fun_calc_phi_12_y(x1))\n",
    "plt.plot(x2,fun_calc_phi_2_y(x2))\n",
    "plt.plot(x3,fun_calc_phi_31_y(x3))\n",
    "plt.plot(x4,fun_calc_phi_32_y(x4))\n",
    "plt.plot(x0,y0,\"or\")\n",
    "plt.grid(True)\n",
    "ax = plt.gca()\n",
    "ax.set_aspect('equal', adjustable='box')"
   ]
  },
  {
   "attachments": {},
   "cell_type": "markdown",
   "metadata": {},
   "source": [
    "### S calc"
   ]
  },
  {
   "cell_type": "code",
   "execution_count": 620,
   "metadata": {},
   "outputs": [],
   "source": [
    "def s_1(x):\n",
    "    return (np.pi - np.arccos((x-xc1)/R1) )*R1"
   ]
  },
  {
   "cell_type": "code",
   "execution_count": 621,
   "metadata": {},
   "outputs": [
    {
     "data": {
      "text/latex": [
       "$\\displaystyle L_2=\\left(1.0 \\sin^{2}{\\left(0.5 x + 0.3 \\right)} + 1\\right)^{0.5}$"
      ],
      "text/plain": [
       "<IPython.core.display.Math object>"
      ]
     },
     "metadata": {},
     "output_type": "display_data"
    }
   ],
   "source": [
    "# compute s paths\n",
    "L_2 = sm.sqrt( 1 + ( sm.diff(calc_phi_2_y[0],x) )**2 )\n",
    "display_expr(L_2)\n",
    "\n",
    "params = tuple(L_2.free_symbols)\n",
    "calc_s_2_int = sm.lambdify(params, L_2, modules='numpy')\n",
    "\n",
    "def s_2(x):\n",
    "    return sp.integrate.quad(calc_s_2_int,xsw1,x)[0]"
   ]
  },
  {
   "cell_type": "code",
   "execution_count": 622,
   "metadata": {},
   "outputs": [],
   "source": [
    "def s_3(x):\n",
    "    return np.arccos((x-xc3)/R3)*R3 - np.arccos((xsw2-xc3)/R3)*R3\n",
    "def s_4(x):\n",
    "    return (np.pi - np.arccos((x-xc3)/R3) )*R3"
   ]
  },
  {
   "attachments": {},
   "cell_type": "markdown",
   "metadata": {},
   "source": [
    "### finding $s_0$"
   ]
  },
  {
   "cell_type": "code",
   "execution_count": 623,
   "metadata": {},
   "outputs": [
    {
     "data": {
      "image/png": "[encoded data removed]",
      "text/plain": [
       "<Figure size 640x480 with 1 Axes>"
      ]
     },
     "metadata": {},
     "output_type": "display_data"
    }
   ],
   "source": [
    "t_data = np.arange(xc1-R1,xc1,1e-2)\n",
    "plt.plot(t_data,(t_data-(xc1-R1))*np.tan(alpha0 - np.pi) + y0)\n",
    "plt.plot(t_data,fun_calc_phi_12_y(t_data))\n",
    "plt.grid(True)\n",
    "ax = plt.gca()\n",
    "ax.set_aspect('equal', adjustable='box')"
   ]
  },
  {
   "cell_type": "code",
   "execution_count": 624,
   "metadata": {},
   "outputs": [
    {
     "name": "stdout",
     "output_type": "stream",
     "text": [
      "-5.561554301636298\n",
      "1.6423682554168422\n"
     ]
    }
   ],
   "source": [
    "# finding s0\n",
    "def fun_optim_s0(x):\n",
    "    return ( (x-(xc1-R1))*np.tan(alpha0 - np.pi) + y0 - fun_calc_phi_12_y(x) )**2\n",
    "\n",
    "x0_4s0 = sp.optimize.minimize_scalar(fun_optim_s0,bounds=(xc1-R1,xc1),method='bounded').x\n",
    "s0 = s_1(x0_4s0)\n",
    "print(x0_4s0)\n",
    "print(s0)"
   ]
  },
  {
   "cell_type": "code",
   "execution_count": 625,
   "metadata": {},
   "outputs": [
    {
     "name": "stdout",
     "output_type": "stream",
     "text": [
      "58.64969623920736\n",
      "[0, 7.243989865398947, 28.737350135440845, 42.94173297125839, 58.64969623920736]\n",
      "21.493360270041897\n",
      "14.204382835817544\n",
      "15.70796326794897\n"
     ]
    }
   ],
   "source": [
    "s_len = s_1(xsw1) + s_2(xsw2) + s_3(xc3-R3) + s_4(xc3+R3)\n",
    "print(s_len)\n",
    "s_all = [0,s_1(xsw1),s_1(xsw1) + s_2(xsw2),s_1(xsw1) + s_2(xsw2) + s_3(xc3-R3),s_1(xsw1) + s_2(xsw2) + s_3(xc3-R3) + s_4(xc3+R3)]\n",
    "print(s_all)\n",
    "print(s_all[2]-s_all[1])\n",
    "print(s_all[3]-s_all[2])\n",
    "print(s_all[4]-s_all[3])"
   ]
  },
  {
   "attachments": {},
   "cell_type": "markdown",
   "metadata": {},
   "source": [
    "### control preaparing"
   ]
  },
  {
   "attachments": {},
   "cell_type": "markdown",
   "metadata": {},
   "source": [
    "$\\Upsilon(x,y)$ = $\\begin{bmatrix} \\frac{\\partial \\psi(x,y)}{\\partial x} & \\frac{\\partial \\psi(x,y)}{\\partial y} \\\\ & \\\\\\frac{\\partial \\varphi(x,y)}{\\partial x} & \\frac{\\partial \\varphi(x,y)}{\\partial y} \\end{bmatrix}$"
   ]
  },
  {
   "cell_type": "code",
   "execution_count": 626,
   "metadata": {},
   "outputs": [],
   "source": [
    "# calc alpha_asterisk\n",
    "s = sm.symbols(\"s\")\n",
    "phi_12_x = sm.solve( ( sm.pi - sm.acos((x-xc1)/R1) )*R1 - s , x)[0] \n",
    "params = tuple(phi_12_x.free_symbols)\n",
    "calc_phi_1_x = sm.lambdify(params, phi_12_x, modules='numpy')\n",
    "\n",
    "dotphi_1 = sm.diff(calc_phi_1_y[1],x)\n",
    "params = tuple(dotphi_1.free_symbols)\n",
    "calc_dotphi_1 = sm.lambdify(params, dotphi_1, modules='numpy')\n",
    "\n",
    "def fun_optim_s2_x(x,s):\n",
    "    return (s_2(x)-s)**2\n",
    "def calc_phi_2_x(s):\n",
    "    return sp.optimize.minimize(fun_optim_s2_x,(xsw1+xsw2)/2,args=s).x[0]\n",
    "dotphi_2 = sm.diff(calc_phi_2_y[0],x)\n",
    "params = tuple(dotphi_2.free_symbols)\n",
    "calc_dotphi_2 = sm.lambdify(params, dotphi_2, modules='numpy')\n",
    "\n",
    "phi_3_x = sm.solve( (sm.acos((x-xc3)/R3))*R3 - (sm.acos((xsw2-xc3)/R3))*R3 - s , x )[0] \n",
    "params = tuple(phi_3_x.free_symbols)\n",
    "calc_phi_3_x = sm.lambdify(params, phi_3_x, modules='numpy')\n",
    "\n",
    "dotphi_3 = sm.diff(calc_phi_3_y[0],x)\n",
    "params = tuple(dotphi_3.free_symbols)\n",
    "calc_dotphi_3 = sm.lambdify(params, dotphi_3, modules='numpy')\n",
    "\n",
    "phi_4_x = sm.solve( (sm.pi - sm.acos((x-xc3)/R3) )*R3 - s , x )[0] \n",
    "params = tuple(phi_4_x.free_symbols)\n",
    "calc_phi_4_x = sm.lambdify(params, phi_4_x, modules='numpy')\n",
    "\n",
    "dotphi_4 = sm.diff(calc_phi_3_y[1],x)\n",
    "params = tuple(dotphi_4.free_symbols)\n",
    "calc_dotphi_4 = sm.lambdify(params, dotphi_4, modules='numpy')\n",
    "\n",
    "def calc_alpha_asterisk(s):\n",
    "    if s<=0:\n",
    "        val_asterisk = 1e6\n",
    "    elif s>=s_all[4]:\n",
    "        val_asterisk = -1e6\n",
    "    elif s==s_all[3]:\n",
    "        val_asterisk = 1e6\n",
    "    elif s==s_all[2]:\n",
    "        val_asterisk = 1.7523330864423152\n",
    "    elif s==s_all[1]: \n",
    "        val_asterisk = -0.5226298800644945\n",
    "    else:\n",
    "        i = search_index(s)\n",
    "        if i==len(s_all)-1:\n",
    "            i-=1\n",
    "        if i==0:\n",
    "            x = calc_phi_1_x(s)\n",
    "            val_asterisk = calc_dotphi_1(x)\n",
    "        elif i==1:\n",
    "            x = calc_phi_2_x(s-s_all[1])\n",
    "            val_asterisk = calc_dotphi_2(x)\n",
    "        elif i==2:\n",
    "            x = calc_phi_3_x(s-s_all[2])\n",
    "            val_asterisk = calc_dotphi_3(x)\n",
    "        elif i==3:\n",
    "            x = calc_phi_4_x(s-s_all[3])\n",
    "            val_asterisk = calc_dotphi_4(x)\n",
    "        \n",
    "        # print(i)\n",
    "        # print(x)\n",
    "    return val_asterisk\n",
    "\n",
    "def search_index(x):\n",
    "    return bisect.bisect(s_all,x) - 1\n",
    "\n",
    "# calc_alpha_asterisk((s_all[4]-s_all[3])/2+s_all[3])\n",
    "# calc_alpha_asterisk(58)\n",
    "# (calc_dotphi_3(calc_phi_3_x(s_all[2])) + calc_dotphi_2(calc_phi_2_x(s_all[2]-s_all[1])) ) /2\n",
    "# (calc_alpha_asterisk(s_all[1]-1e-6) + calc_alpha_asterisk(s_all[1]))/2"
   ]
  },
  {
   "cell_type": "code",
   "execution_count": 627,
   "metadata": {},
   "outputs": [
    {
     "data": {
      "text/latex": [
       "$\\displaystyle y - 2 \\cos{\\left(0.5 x + 0.3 \\right)} - 2$"
      ],
      "text/plain": [
       "<IPython.core.display.Math object>"
      ]
     },
     "metadata": {},
     "output_type": "display_data"
    },
    {
     "data": {
      "text/latex": [
       "$\\displaystyle 1$"
      ],
      "text/plain": [
       "<IPython.core.display.Math object>"
      ]
     },
     "metadata": {},
     "output_type": "display_data"
    },
    {
     "data": {
      "text/latex": [
       "$\\displaystyle 0$"
      ],
      "text/plain": [
       "<IPython.core.display.Math object>"
      ]
     },
     "metadata": {},
     "output_type": "display_data"
    },
    {
     "data": {
      "text/latex": [
       "$\\displaystyle 1.0 \\sin{\\left(0.5 x + 0.3 \\right)}$"
      ],
      "text/plain": [
       "<IPython.core.display.Math object>"
      ]
     },
     "metadata": {},
     "output_type": "display_data"
    },
    {
     "data": {
      "text/latex": [
       "$\\displaystyle 0.5 \\cos{\\left(0.5 x + 0.3 \\right)}$"
      ],
      "text/plain": [
       "<IPython.core.display.Math object>"
      ]
     },
     "metadata": {},
     "output_type": "display_data"
    },
    {
     "data": {
      "text/latex": [
       "$\\displaystyle 0$"
      ],
      "text/plain": [
       "<IPython.core.display.Math object>"
      ]
     },
     "metadata": {},
     "output_type": "display_data"
    },
    {
     "data": {
      "text/latex": [
       "$\\displaystyle \\xi=\\frac{0.5 \\left|{\\cos{\\left(0.5 x + 0.3 \\right)}}\\right|}{\\left(1.0 \\sin^{2}{\\left(0.5 x + 0.3 \\right)} + 1\\right)^{1.5}}$"
      ],
      "text/plain": [
       "<IPython.core.display.Math object>"
      ]
     },
     "metadata": {},
     "output_type": "display_data"
    },
    {
     "data": {
      "text/latex": [
       "$\\displaystyle dotxi=- \\frac{0.75 \\sin{\\left(0.5 x + 0.3 \\right)} \\cos^{2}{\\left(0.5 x + 0.3 \\right)}}{\\left(1.0 \\sin^{2}{\\left(0.5 x + 0.3 \\right)} + 1\\right)^{2.5}} - \\frac{0.25 \\sin{\\left(0.5 x + 0.3 \\right)}}{\\left(1.0 \\sin^{2}{\\left(0.5 x + 0.3 \\right)} + 1\\right)^{1.5}}$"
      ],
      "text/plain": [
       "<IPython.core.display.Math object>"
      ]
     },
     "metadata": {},
     "output_type": "display_data"
    }
   ],
   "source": [
    "# calc curvature of second path\n",
    "dotphi_2_y = sm.diff(phi_2,y)\n",
    "ddotphi_2_yy = sm.diff(dotphi_2_y,y)\n",
    "dotphi_2_x = sm.diff(phi_2,x)\n",
    "ddotphi_2_xx = sm.diff(dotphi_2_x,x)\n",
    "ddotphi_2_xy = sm.diff(dotphi_2_x,y)\n",
    "display(Math(sm.latex(phi_2)))\n",
    "display(Math(sm.latex(dotphi_2_y)))\n",
    "display(Math(sm.latex(ddotphi_2_yy)))\n",
    "display(Math(sm.latex(dotphi_2_x)))\n",
    "display(Math(sm.latex(ddotphi_2_xx)))\n",
    "display(Math(sm.latex(ddotphi_2_xy)))\n",
    "xi = abs(dotphi_2_y**2*ddotphi_2_xx-2*dotphi_2_x*dotphi_2_y*ddotphi_2_xy+dotphi_2_x**2*ddotphi_2_yy)/((dotphi_2_x)**2+(dotphi_2_y)**2)**(3/2)\n",
    "display_expr(xi)\n",
    "params = tuple(xi.free_symbols)\n",
    "calc_phi_2_xi = sm.lambdify(params, xi, modules='numpy')\n",
    "\n",
    "dotxi = sm.diff( (dotphi_2_y**2*ddotphi_2_xx-2*dotphi_2_x*dotphi_2_y*ddotphi_2_xy+dotphi_2_x**2*ddotphi_2_yy)/((dotphi_2_x)**2+(dotphi_2_y)**2)**(3/2) ,x)\n",
    "display_expr(dotxi)\n",
    "calc_phi_2_dotxi = sm.lambdify(x, dotxi, modules='numpy')"
   ]
  },
  {
   "cell_type": "code",
   "execution_count": 628,
   "metadata": {},
   "outputs": [],
   "source": [
    "# calc curvature\n",
    "def calc_curvature(s):\n",
    "    i = search_index(s)\n",
    "    if i==len(s_all)-1:\n",
    "        i-=1\n",
    "    if i==0:\n",
    "        xi=1/R1\n",
    "    elif i==1:\n",
    "        x = calc_phi_2_x(s-s_all[1])\n",
    "        xi = calc_phi_2_xi(x)\n",
    "    else:\n",
    "        xi=1/R3\n",
    "    return xi\n",
    "\n",
    "def calc_dotcurvature(s):\n",
    "    i = search_index(s)\n",
    "    if i==len(s_all)-1:\n",
    "        i-=1\n",
    "    if i==0:\n",
    "        xi=0\n",
    "    elif i==1:\n",
    "        x = calc_phi_2_x(s-s_all[1])\n",
    "        xi = calc_phi_2_dotxi(x)\n",
    "    else:\n",
    "        xi=0\n",
    "    return xi"
   ]
  },
  {
   "cell_type": "code",
   "execution_count": 629,
   "metadata": {},
   "outputs": [],
   "source": [
    "# calc e\n",
    "calc_phi_1 = sm.lambdify((x,y), phi_1, modules='numpy')\n",
    "calc_phi_2 = sm.lambdify((x,y), phi_2, modules='numpy')\n",
    "calc_phi_3 = sm.lambdify((x,y), phi_3, modules='numpy')\n",
    "\n",
    "def calc_e(x,y,s):\n",
    "    i = search_index(s)\n",
    "    if i==len(s_all)-1:\n",
    "        i-=1\n",
    "    if i==0:\n",
    "        e = calc_phi_1(x,y)\n",
    "    elif i==1:\n",
    "        e = calc_phi_2(x,y)\n",
    "    else:\n",
    "        e = calc_phi_3(x,y)\n",
    "    # print(i)\n",
    "    return e"
   ]
  },
  {
   "attachments": {},
   "cell_type": "markdown",
   "metadata": {},
   "source": [
    "### Control"
   ]
  },
  {
   "cell_type": "code",
   "execution_count": 630,
   "metadata": {},
   "outputs": [
    {
     "name": "stdout",
     "output_type": "stream",
     "text": [
      "11.729939247841472\n"
     ]
    }
   ],
   "source": [
    "Vs = 5\n",
    "T = s_all[-1]/Vs\n",
    "print(T) # simulation time"
   ]
  },
  {
   "cell_type": "code",
   "execution_count": 631,
   "metadata": {},
   "outputs": [
    {
     "data": {
      "text/latex": [
       "$\\displaystyle z=\\left[\\begin{matrix}v_x\\\\v_y\\\\\\omega\\\\x\\\\y\\\\\\alpha\\\\s\\end{matrix}\\right]$"
      ],
      "text/plain": [
       "<IPython.core.display.Math object>"
      ]
     },
     "metadata": {},
     "output_type": "display_data"
    }
   ],
   "source": [
    "z = sm.Matrix([[vx],[vy],[omega],[x],[y],[alpha],[s]])\n",
    "display_expr(z)"
   ]
  },
  {
   "cell_type": "code",
   "execution_count": 632,
   "metadata": {},
   "outputs": [
    {
     "data": {
      "text/latex": [
       "$\\displaystyle rhs=\\left[\\begin{matrix}0.357 F_x\\\\0.357 F_y\\\\0.333 M\\\\v_x \\cos{\\left(\\alpha \\right)} + v_y \\sin{\\left(\\alpha \\right)}\\\\- v_x \\sin{\\left(\\alpha \\right)} + v_y \\cos{\\left(\\alpha \\right)}\\\\\\omega\\\\- \\left(- v_x \\sin{\\left(\\alpha \\right)} + v_y \\cos{\\left(\\alpha \\right)}\\right) \\sin{\\left(\\alpha^{*} \\right)} + \\left(v_x \\cos{\\left(\\alpha \\right)} + v_y \\sin{\\left(\\alpha \\right)}\\right) \\cos{\\left(\\alpha^{*} \\right)}\\end{matrix}\\right]$"
      ],
      "text/plain": [
       "<IPython.core.display.Math object>"
      ]
     },
     "metadata": {},
     "output_type": "display_data"
    }
   ],
   "source": [
    "rhs = sm.Matrix([Au,vb[0],vb[1],omega,dots])\n",
    "display_expr(rhs)"
   ]
  },
  {
   "cell_type": "code",
   "execution_count": 633,
   "metadata": {},
   "outputs": [
    {
     "data": {
      "text/latex": [
       "$\\displaystyle rhs=\\left[\\begin{matrix}- 1.0 \\xi \\left(- \\left(- v_x \\sin{\\left(\\alpha \\right)} + v_y \\cos{\\left(\\alpha \\right)}\\right) \\sin{\\left(\\alpha^{*} \\right)} + \\left(v_x \\cos{\\left(\\alpha \\right)} + v_y \\sin{\\left(\\alpha \\right)}\\right) \\cos{\\left(\\alpha^{*} \\right)}\\right) \\left(\\left(- v_x \\sin{\\left(\\alpha \\right)} + v_y \\cos{\\left(\\alpha \\right)}\\right) \\cos{\\left(\\alpha^{*} \\right)} + \\left(v_x \\cos{\\left(\\alpha \\right)} + v_y \\sin{\\left(\\alpha \\right)}\\right) \\sin{\\left(\\alpha^{*} \\right)}\\right) + 5.0 \\left(- v_x \\sin{\\left(\\alpha \\right)} + v_y \\cos{\\left(\\alpha \\right)}\\right) \\sin{\\left(\\alpha^{*} \\right)} - 5.0 \\left(v_x \\cos{\\left(\\alpha \\right)} + v_y \\sin{\\left(\\alpha \\right)}\\right) \\cos{\\left(\\alpha^{*} \\right)} + 25.0\\\\- 20.0 e + 1.0 \\xi \\left(- \\left(- v_x \\sin{\\left(\\alpha \\right)} + v_y \\cos{\\left(\\alpha \\right)}\\right) \\sin{\\left(\\alpha^{*} \\right)} + \\left(v_x \\cos{\\left(\\alpha \\right)} + v_y \\sin{\\left(\\alpha \\right)}\\right) \\cos{\\left(\\alpha^{*} \\right)}\\right)^{2} - 5.0 \\left(- v_x \\sin{\\left(\\alpha \\right)} + v_y \\cos{\\left(\\alpha \\right)}\\right) \\cos{\\left(\\alpha^{*} \\right)} - 5.0 \\left(v_x \\cos{\\left(\\alpha \\right)} + v_y \\sin{\\left(\\alpha \\right)}\\right) \\sin{\\left(\\alpha^{*} \\right)}\\\\- 20.0 \\alpha + 20.0 \\alpha^{*} + 1.0 \\dot \\xi \\left(v_x \\cos{\\left(\\alpha \\right)} + v_y \\sin{\\left(\\alpha \\right)}\\right) \\left(- \\left(- v_x \\sin{\\left(\\alpha \\right)} + v_y \\cos{\\left(\\alpha \\right)}\\right) \\sin{\\left(\\alpha^{*} \\right)} + \\left(v_x \\cos{\\left(\\alpha \\right)} + v_y \\sin{\\left(\\alpha \\right)}\\right) \\cos{\\left(\\alpha^{*} \\right)}\\right) + 1.0 \\xi^{2} \\left(- \\left(- v_x \\sin{\\left(\\alpha \\right)} + v_y \\cos{\\left(\\alpha \\right)}\\right) \\sin{\\left(\\alpha^{*} \\right)} + \\left(v_x \\cos{\\left(\\alpha \\right)} + v_y \\sin{\\left(\\alpha \\right)}\\right) \\cos{\\left(\\alpha^{*} \\right)}\\right) \\left(\\left(- v_x \\sin{\\left(\\alpha \\right)} + v_y \\cos{\\left(\\alpha \\right)}\\right) \\cos{\\left(\\alpha^{*} \\right)} + \\left(v_x \\cos{\\left(\\alpha \\right)} + v_y \\sin{\\left(\\alpha \\right)}\\right) \\sin{\\left(\\alpha^{*} \\right)}\\right) + 1.0 \\xi \\left(- \\xi \\left(- \\left(- v_x \\sin{\\left(\\alpha \\right)} + v_y \\cos{\\left(\\alpha \\right)}\\right) \\sin{\\left(\\alpha^{*} \\right)} + \\left(v_x \\cos{\\left(\\alpha \\right)} + v_y \\sin{\\left(\\alpha \\right)}\\right) \\cos{\\left(\\alpha^{*} \\right)}\\right) \\left(\\left(- v_x \\sin{\\left(\\alpha \\right)} + v_y \\cos{\\left(\\alpha \\right)}\\right) \\cos{\\left(\\alpha^{*} \\right)} + \\left(v_x \\cos{\\left(\\alpha \\right)} + v_y \\sin{\\left(\\alpha \\right)}\\right) \\sin{\\left(\\alpha^{*} \\right)}\\right) + 5 \\left(- v_x \\sin{\\left(\\alpha \\right)} + v_y \\cos{\\left(\\alpha \\right)}\\right) \\sin{\\left(\\alpha^{*} \\right)} - 5 \\left(v_x \\cos{\\left(\\alpha \\right)} + v_y \\sin{\\left(\\alpha \\right)}\\right) \\cos{\\left(\\alpha^{*} \\right)} + 25\\right)\\\\v_x \\cos{\\left(\\alpha \\right)} + v_y \\sin{\\left(\\alpha \\right)}\\\\- v_x \\sin{\\left(\\alpha \\right)} + v_y \\cos{\\left(\\alpha \\right)}\\\\\\omega\\\\- \\left(- v_x \\sin{\\left(\\alpha \\right)} + v_y \\cos{\\left(\\alpha \\right)}\\right) \\sin{\\left(\\alpha^{*} \\right)} + \\left(v_x \\cos{\\left(\\alpha \\right)} + v_y \\sin{\\left(\\alpha \\right)}\\right) \\cos{\\left(\\alpha^{*} \\right)}\\end{matrix}\\right]$"
      ],
      "text/plain": [
       "<IPython.core.display.Math object>"
      ]
     },
     "metadata": {},
     "output_type": "display_data"
    },
    {
     "name": "stdout",
     "output_type": "stream",
     "text": [
      "(xi, alpha, e, alpha_asterisk, vy, dotxi, vx, omega)\n"
     ]
    }
   ],
   "source": [
    "# control sugnals formulation\n",
    "xi = sm.symbols(\"xi\")\n",
    "dotxi = sm.symbols(\"dotxi\")\n",
    "e = sm.symbols(\"e\")\n",
    "ks = 5\n",
    "ke1 = 5\n",
    "ke2 = 20\n",
    "kdelta2 = 20\n",
    "us = -xi*dots*dote+ks*(Vs-dots)\n",
    "rhs = rhs.subs(Fx,m*(us))\n",
    "rhs = rhs.subs(Fy,m*(xi*dots**2-ke1*dote-ke2*e))\n",
    "rhs = rhs.subs(M,J*(xi*us+dotxi*vb[0]*dots+xi**2*dots*dote - kdelta2*(alpha-alpha_asterisk)))\n",
    "display_expr(rhs)\n",
    "\n",
    "params = tuple(rhs.free_symbols)\n",
    "print(params)\n",
    "calc_rhs = sm.lambdify(params, rhs, modules='numpy')"
   ]
  },
  {
   "cell_type": "code",
   "execution_count": 635,
   "metadata": {},
   "outputs": [],
   "source": [
    "# calc_rhs(xi, alpha, e, alpha_asterisk, vy, dotxi, vx, omega)"
   ]
  },
  {
   "cell_type": "code",
   "execution_count": 636,
   "metadata": {},
   "outputs": [],
   "source": [
    "def rhs(t, z):\n",
    "    vx,vy,omega,x,y,alpha,s = z\n",
    "\n",
    "    e = calc_e(x,y,s)\n",
    "    xi = calc_curvature(s)\n",
    "    dotxi = calc_dotcurvature(s)\n",
    "    alpha_asterisk = calc_alpha_asterisk(s)\n",
    "\n",
    "    return calc_rhs(xi, alpha, e, alpha_asterisk, vy, dotxi, vx, omega).reshape(1,7)[0]"
   ]
  },
  {
   "cell_type": "code",
   "execution_count": 644,
   "metadata": {},
   "outputs": [],
   "source": [
    "z0 = [0,0,0,x0,y0,alpha0,s0] # [vx],[vy],[omega],[x],[y],[alpha],[s]\n",
    "sol = sp.integrate.solve_ivp(rhs, [0, 0.3], z0,method='RK45', dense_output=False,rtol=1e-2, atol=1e-4)"
   ]
  },
  {
   "cell_type": "code",
   "execution_count": 645,
   "metadata": {},
   "outputs": [
    {
     "data": {
      "image/png": "[encoded data removed]",
      "text/plain": [
       "<Figure size 2000x1000 with 1 Axes>"
      ]
     },
     "metadata": {},
     "output_type": "display_data"
    }
   ],
   "source": [
    "t = sol.t\n",
    "z_traj = sol.y\n",
    "\n",
    "fig, ax = plt.subplots(1,1,figsize = (20,10))\n",
    "labels = ['robot $X_mOY_m$ trajectory','desired trajectory']\n",
    "colours = ['g','b']\n",
    "ax.plot(z_traj[3],z_traj[4],label=labels[0],color=colours[0])\n",
    "plt.plot(x1,fun_calc_phi_12_y(x1),\"-\",color=colours[1],label=labels[1])\n",
    "plt.plot(x2,fun_calc_phi_2_y(x2),\"-\",color=colours[1])\n",
    "plt.plot(x3,fun_calc_phi_31_y(x3),\"-\",color=colours[1])\n",
    "plt.plot(x4,fun_calc_phi_32_y(x4),\"-\",color=colours[1])\n",
    "plt.plot(x0,y0,\"or\")\n",
    "\n",
    "fig.suptitle(\"robot movement with control signal\")\n",
    "ax.set_xlabel(\"$x$\")\n",
    "ax.set_ylabel(\"$y$\")\n",
    "ax.grid(True)\n",
    "ax.legend(fontsize=\"20\",loc='upper right')\n",
    "ax.axis('equal')\n",
    "plt.show()\n",
    "\n",
    "# fig, ax = plt.subplots(2,4,figsize = (20,8))\n",
    "# for i in range(2):\n",
    "#     for j in range(4):\n",
    "#         ax[i][j].grid(True)\n",
    "# plt.subplot(241)\n",
    "# plt.plot(t,z1_traj[0],\"-b\")\n",
    "# plt.plot(t,x_des,\"--\",color=\"orange\")\n",
    "# plt.title(\"$z_{1_{11}}$ or P''x\")\n",
    "# plt.subplot(242)\n",
    "# plt.plot(t,z1_traj[1])\n",
    "# plt.plot(t,y_des,\"--\",color=\"orange\")\n",
    "# plt.title(\"$z_{1_{21}}$ or P''y\")\n",
    "# plt.subplot(243)\n",
    "# plt.plot(t,z1_traj[6] )\n",
    "# plt.title(\"vartheta\")\n",
    "# plt.subplot(244)\n",
    "# plt.plot(t,z1_traj[7])\n",
    "# plt.title(\"beta_s1\")\n",
    "# plt.subplot(245)\n",
    "# plt.plot(t,z1_traj[2])\n",
    "# plt.title(\"beta_s2\")\n",
    "\n",
    "# eta_v = np.array([])\n",
    "# zeta_1_v = np.array([])\n",
    "# zeta_2_v = np.array([])\n",
    "# for i in range(len(t)):\n",
    "#     u_v = np.dot( fun_Kinv(z1_traj[2][i], z1_traj[6][i], z1_traj[7][i]), np.array([z1_traj[3][i],z1_traj[4][i],z1_traj[5][i]]).reshape(3,1) )\n",
    "#     eta_v = np.append(eta_v,u_v[0][0])\n",
    "#     zeta_1_v = np.append(zeta_1_v,u_v[1][0])\n",
    "#     zeta_2_v = np.append(zeta_2_v,u_v[2][0])\n",
    "\n",
    "# plt.subplot(246)\n",
    "# plt.plot(t,eta_v)\n",
    "# plt.title(\"eta\")\n",
    "# ax[1][1].set_ylim([-10000,10000])\n",
    "# plt.subplot(247)\n",
    "# plt.plot(t,zeta_1_v)\n",
    "# plt.title(\"zeta_1\")\n",
    "# ax[1][2].set_ylim([-10000,10000])\n",
    "# plt.subplot(248)\n",
    "# plt.plot(t,zeta_2_v)\n",
    "# plt.title(\"zeta_2\")\n",
    "# plt.show()"
   ]
  }
 ],
 "metadata": {
  "kernelspec": {
   "display_name": "learn-multibody-dynamics",
   "language": "python",
   "name": "python3"
  },
  "language_info": {
   "codemirror_mode": {
    "name": "ipython",
    "version": 3
   },
   "file_extension": ".py",
   "mimetype": "text/x-python",
   "name": "python",
   "nbconvert_exporter": "python",
   "pygments_lexer": "ipython3",
   "version": "3.8.18"
  },
  "orig_nbformat": 4
 },
 "nbformat": 4,
 "nbformat_minor": 2
}
