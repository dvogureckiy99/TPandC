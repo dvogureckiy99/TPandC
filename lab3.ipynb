{
 "cells": [
  {
   "attachments": {},
   "cell_type": "markdown",
   "metadata": {},
   "source": [
    "#### Лаба 3\n",
    "\n",
    "#### задачи траекторного управления"
   ]
  },
  {
   "attachments": {},
   "cell_type": "markdown",
   "metadata": {},
   "source": [
    "### Given"
   ]
  },
  {
   "cell_type": "code",
   "execution_count": 3,
   "metadata": {},
   "outputs": [],
   "source": [
    "import sympy as sm\n",
    "import numpy as np\n",
    "import scipy as sp\n",
    "import matplotlib.pyplot as plt\n",
    "from IPython.display import display, Math\n",
    "import inspect"
   ]
  },
  {
   "cell_type": "code",
   "execution_count": 4,
   "metadata": {},
   "outputs": [],
   "source": [
    "# robot model parameters\n",
    "m = 2.8 # in kg\n",
    "J = 3 # in kg*m"
   ]
  },
  {
   "cell_type": "code",
   "execution_count": 224,
   "metadata": {},
   "outputs": [],
   "source": [
    "x, y, omega, alpha, alpha_asterisk, vx, vy, Fx, Fy, M  = sm.symbols(\"x y omega alpha alpha_asterisk vx vy Fx Fy M\")\n",
    "A = sm.Matrix( [[1/m,0,0],[0,1/m,0],[0,0,1/J]] )\n",
    "z = sm.Matrix( [[vx],[vy],[omega]] ) # in m frame\n",
    "u = sm.Matrix( [[Fx],[Fy],[M]] )\n",
    "R = sm.Matrix( [[sm.cos(alpha),sm.sin(alpha)],[-sm.sin(alpha),sm.cos(alpha)]] ) # from mobile to base"
   ]
  },
  {
   "cell_type": "code",
   "execution_count": 229,
   "metadata": {},
   "outputs": [],
   "source": [
    "def display_expr(expr):\n",
    "    frame = inspect.currentframe()\n",
    "    frame = inspect.getouterframes(frame)[1]\n",
    "    string = inspect.getframeinfo(frame[0]).code_context[0].strip()\n",
    "    args = string[string.find('(') + 1:-1].split(',')\n",
    "    \n",
    "    names = []\n",
    "    for i in args:\n",
    "        if i.find('=') != -1:\n",
    "            names.append(i.split('=')[1].strip())\n",
    "        else:\n",
    "            names.append(i)\n",
    "    if names[0]=='phi_1':\n",
    "        names[0] = '\\\\varphi_1'\n",
    "    if names[0]=='phi_2':\n",
    "        names[0] = '\\\\varphi_2'\n",
    "    if names[0]=='phi_3':\n",
    "        names[0] = '\\\\varphi_3'\n",
    "    if names[0]=='vm':\n",
    "        names[0] = 'v_m'\n",
    "    if names[0]=='vb':\n",
    "        names[0] = 'v_b'\n",
    "    if names[0]=='dots':\n",
    "        names[0] = '\\\\dot s'\n",
    "    if names[0]=='dote':\n",
    "        names[0] = '\\\\dot e'\n",
    "\n",
    "    expr = expr.xreplace({n : round(n, 3) for n in expr.atoms(sm.Number)})\n",
    "    str = sm.latex(expr)\n",
    "    # str = str.replace('\\\\theta','\\\\vartheta')\n",
    "    str = str.replace('vx','v_x')\n",
    "    str = str.replace('vy','v_y')\n",
    "    str = str.replace('Fx','F_x')\n",
    "    str = str.replace('Fy','F_y') \n",
    "    str = str.replace('\\\\alpha_{asterisk}','\\\\alpha^{*}')\n",
    "\n",
    "    display(Math(names[0] + '=' + str))    "
   ]
  },
  {
   "cell_type": "code",
   "execution_count": 7,
   "metadata": {},
   "outputs": [
    {
     "data": {
      "text/latex": [
       "$\\displaystyle Au=\\left[\\begin{matrix}0.357 F_x\\\\0.357 F_y\\\\0.333 M\\end{matrix}\\right]$"
      ],
      "text/plain": [
       "<IPython.core.display.Math object>"
      ]
     },
     "metadata": {},
     "output_type": "display_data"
    }
   ],
   "source": [
    "Au = A*u\n",
    "display_expr(Au)"
   ]
  },
  {
   "cell_type": "code",
   "execution_count": 233,
   "metadata": {},
   "outputs": [
    {
     "data": {
      "text/latex": [
       "$\\displaystyle v_m=\\left[\\begin{matrix}v_x\\\\v_y\\end{matrix}\\right]$"
      ],
      "text/plain": [
       "<IPython.core.display.Math object>"
      ]
     },
     "metadata": {},
     "output_type": "display_data"
    },
    {
     "data": {
      "text/latex": [
       "$\\displaystyle v_b=\\left[\\begin{matrix}v_x \\cos{\\left(\\alpha \\right)} + v_y \\sin{\\left(\\alpha \\right)}\\\\- v_x \\sin{\\left(\\alpha \\right)} + v_y \\cos{\\left(\\alpha \\right)}\\end{matrix}\\right]$"
      ],
      "text/plain": [
       "<IPython.core.display.Math object>"
      ]
     },
     "metadata": {},
     "output_type": "display_data"
    },
    {
     "data": {
      "text/latex": [
       "$\\displaystyle \\dot s=- \\left(- v_x \\sin{\\left(\\alpha \\right)} + v_y \\cos{\\left(\\alpha \\right)}\\right) \\sin{\\left(\\alpha^{*} \\right)} + \\left(v_x \\cos{\\left(\\alpha \\right)} + v_y \\sin{\\left(\\alpha \\right)}\\right) \\cos{\\left(\\alpha^{*} \\right)}$"
      ],
      "text/plain": [
       "<IPython.core.display.Math object>"
      ]
     },
     "metadata": {},
     "output_type": "display_data"
    },
    {
     "data": {
      "text/latex": [
       "$\\displaystyle \\dot e=\\left(- v_x \\sin{\\left(\\alpha \\right)} + v_y \\cos{\\left(\\alpha \\right)}\\right) \\cos{\\left(\\alpha^{*} \\right)} + \\left(v_x \\cos{\\left(\\alpha \\right)} + v_y \\sin{\\left(\\alpha \\right)}\\right) \\sin{\\left(\\alpha^{*} \\right)}$"
      ],
      "text/plain": [
       "<IPython.core.display.Math object>"
      ]
     },
     "metadata": {},
     "output_type": "display_data"
    }
   ],
   "source": [
    "vm = sm.Matrix([[vx],[vy]])\n",
    "display_expr(vm)\n",
    "vb = R*vm\n",
    "display_expr(vb)\n",
    "dots = (sm.transpose(R.subs(alpha,alpha_asterisk))*vb)[0]\n",
    "display_expr(dots)\n",
    "dote = (sm.transpose(R.subs(alpha,alpha_asterisk))*vb)[1]\n",
    "display_expr(dote)"
   ]
  },
  {
   "cell_type": "code",
   "execution_count": 9,
   "metadata": {},
   "outputs": [
    {
     "data": {
      "text/latex": [
       "$\\displaystyle a=\\left[\\begin{matrix}0.357 F_x \\cos{\\left(\\alpha \\right)} - 0.357 F_y \\sin{\\left(\\alpha \\right)}\\\\0.357 F_x \\sin{\\left(\\alpha \\right)} + 0.357 F_y \\cos{\\left(\\alpha \\right)}\\end{matrix}\\right]$"
      ],
      "text/plain": [
       "<IPython.core.display.Math object>"
      ]
     },
     "metadata": {},
     "output_type": "display_data"
    }
   ],
   "source": [
    "a = (1/m)*sm.transpose(R)*sm.Matrix([[Fx],[Fy]])\n",
    "display_expr(a)"
   ]
  },
  {
   "attachments": {},
   "cell_type": "markdown",
   "metadata": {},
   "source": [
    "### Traj phi"
   ]
  },
  {
   "cell_type": "code",
   "execution_count": 168,
   "metadata": {},
   "outputs": [
    {
     "data": {
      "text/latex": [
       "$\\displaystyle \\varphi_1=\\left(x + 3\\right)^{2} + \\left(y - 2\\right)^{2} - 9$"
      ],
      "text/plain": [
       "<IPython.core.display.Math object>"
      ]
     },
     "metadata": {},
     "output_type": "display_data"
    },
    {
     "data": {
      "text/latex": [
       "$\\displaystyle \\varphi_2=y - 2 \\cos{\\left(0.5 x + 0.3 \\right)} - 2$"
      ],
      "text/plain": [
       "<IPython.core.display.Math object>"
      ]
     },
     "metadata": {},
     "output_type": "display_data"
    },
    {
     "data": {
      "text/latex": [
       "$\\displaystyle \\varphi_3=\\left(x - 12\\right)^{2} + \\left(y - 2\\right)^{2} - 25$"
      ],
      "text/plain": [
       "<IPython.core.display.Math object>"
      ]
     },
     "metadata": {},
     "output_type": "display_data"
    }
   ],
   "source": [
    "#trajectory\n",
    "x0 = -7\n",
    "y0 = 4\n",
    "alpha0 = 3*np.pi/4\n",
    "vs_des1 = 1 \n",
    "vs_des2 = 3\n",
    "vs_des3 = 5\n",
    "\n",
    "R1 = 3\n",
    "xc1 = -3\n",
    "yc1 = 2\n",
    "R3 = 5\n",
    "xc3 = 12\n",
    "yc3 = 2\n",
    "phi_1 = (x-xc1)**2+(y-yc1)**2-R1**2\n",
    "phi_2 = -2*sm.cos(0.5*x+0.3)+y-2\n",
    "phi_3 = (x-xc3)**2 + (y-yc3)**2 - R3**2\n",
    "display_expr(phi_1)\n",
    "display_expr(phi_2)\n",
    "display_expr(phi_3)"
   ]
  },
  {
   "cell_type": "code",
   "execution_count": 169,
   "metadata": {},
   "outputs": [
    {
     "data": {
      "text/latex": [
       "$\\displaystyle \\left[ 2 - \\sqrt{- x \\left(x + 6\\right)}, \\  \\sqrt{- x \\left(x + 6\\right)} + 2\\right]$"
      ],
      "text/plain": [
       "<IPython.core.display.Math object>"
      ]
     },
     "metadata": {},
     "output_type": "display_data"
    }
   ],
   "source": [
    "calc_phi_1_y = sm.solve(phi_1, y)\n",
    "display(Math(sm.latex(calc_phi_1_y)))"
   ]
  },
  {
   "cell_type": "code",
   "execution_count": 170,
   "metadata": {},
   "outputs": [
    {
     "data": {
      "text/latex": [
       "$\\displaystyle \\left[ 2.0 \\cos{\\left(0.5 x + 0.3 \\right)} + 2.0\\right]$"
      ],
      "text/plain": [
       "<IPython.core.display.Math object>"
      ]
     },
     "metadata": {},
     "output_type": "display_data"
    }
   ],
   "source": [
    "calc_phi_2_y = sm.solve(phi_2, y)\n",
    "display(Math(sm.latex(calc_phi_2_y)))"
   ]
  },
  {
   "cell_type": "code",
   "execution_count": 171,
   "metadata": {},
   "outputs": [
    {
     "data": {
      "text/latex": [
       "$\\displaystyle \\left[ 2 - \\sqrt{- \\left(x - 17\\right) \\left(x - 7\\right)}, \\  \\sqrt{- \\left(x - 17\\right) \\left(x - 7\\right)} + 2\\right]$"
      ],
      "text/plain": [
       "<IPython.core.display.Math object>"
      ]
     },
     "metadata": {},
     "output_type": "display_data"
    }
   ],
   "source": [
    "calc_phi_3_y = sm.solve(phi_3, y)\n",
    "display(Math(sm.latex(calc_phi_3_y)))"
   ]
  },
  {
   "attachments": {},
   "cell_type": "markdown",
   "metadata": {},
   "source": [
    "### Traj calc"
   ]
  },
  {
   "cell_type": "code",
   "execution_count": 172,
   "metadata": {},
   "outputs": [
    {
     "name": "stdout",
     "output_type": "stream",
     "text": [
      "(x,)\n",
      "(x,)\n",
      "(x,)\n",
      "(x,)\n",
      "(x,)\n"
     ]
    }
   ],
   "source": [
    "params = tuple(calc_phi_1_y[0].free_symbols)\n",
    "print(params)\n",
    "fun_calc_phi_11_y = sm.lambdify(params, calc_phi_1_y[0], modules='numpy')\n",
    "params = tuple(calc_phi_1_y[1].free_symbols)\n",
    "print(params)\n",
    "fun_calc_phi_12_y = sm.lambdify(params, calc_phi_1_y[1], modules='numpy')\n",
    "\n",
    "params = tuple(calc_phi_2_y[0].free_symbols)\n",
    "print(params)\n",
    "fun_calc_phi_2_y = sm.lambdify(params, calc_phi_2_y[0], modules='numpy')\n",
    "\n",
    "params = tuple(calc_phi_3_y[0].free_symbols)\n",
    "print(params)\n",
    "fun_calc_phi_31_y = sm.lambdify(params, calc_phi_3_y[0], modules='numpy')\n",
    "params = tuple(calc_phi_3_y[1].free_symbols)\n",
    "print(params)\n",
    "fun_calc_phi_32_y = sm.lambdify(params, calc_phi_3_y[1], modules='numpy')"
   ]
  },
  {
   "cell_type": "code",
   "execution_count": 173,
   "metadata": {},
   "outputs": [
    {
     "data": {
      "text/plain": [
       "[<matplotlib.lines.Line2D at 0x2bad288aaf0>]"
      ]
     },
     "execution_count": 173,
     "metadata": {},
     "output_type": "execute_result"
    },
    {
     "data": {
      "image/png": "[encoded data removed]",
      "text/plain": [
       "<Figure size 640x480 with 1 Axes>"
      ]
     },
     "metadata": {},
     "output_type": "display_data"
    }
   ],
   "source": [
    "x1 = np.arange(xc1-R1,xc1+R1,1e-3)\n",
    "x2 = np.arange(-6,17,1e-2)\n",
    "x3 = np.arange(xc3-R3,xc3+R3,1e-3)\n",
    "plt.plot(x1,fun_calc_phi_11_y(x1))\n",
    "plt.plot(x1,fun_calc_phi_12_y(x1))\n",
    "plt.plot(x2,fun_calc_phi_2_y(x2))\n",
    "plt.plot(x3,fun_calc_phi_31_y(x3))\n",
    "plt.plot(x3,fun_calc_phi_32_y(x3))\n",
    "plt.plot(x0,y0,\"or\")"
   ]
  },
  {
   "cell_type": "code",
   "execution_count": 174,
   "metadata": {},
   "outputs": [
    {
     "name": "stdout",
     "output_type": "stream",
     "text": [
      "-0.7583442022818133\n"
     ]
    }
   ],
   "source": [
    "#поиск точек переключений\n",
    "def calc_fun_optim_finding_x(x):\n",
    "    return (fun_calc_phi_12_y(x)-fun_calc_phi_2_y(x))**2\n",
    "xsw1 = sp.optimize.minimize_scalar(calc_fun_optim_finding_x,bounds=(xc1-R1,xc1+R1),method='bounded').x\n",
    "print(xsw1)"
   ]
  },
  {
   "cell_type": "code",
   "execution_count": 175,
   "metadata": {},
   "outputs": [
    {
     "name": "stdout",
     "output_type": "stream",
     "text": [
      "16.775623130982034\n"
     ]
    }
   ],
   "source": [
    "def calc_fun_optim_finding_x(x):\n",
    "    return (fun_calc_phi_2_y(x)-fun_calc_phi_31_y(x))**2\n",
    "xsw2 = sp.optimize.minimize_scalar(calc_fun_optim_finding_x,bounds=(xc3,xc3+R3),method='bounded').x\n",
    "print(xsw2)\n",
    "xsw3 = xc3-R3"
   ]
  },
  {
   "cell_type": "code",
   "execution_count": 176,
   "metadata": {},
   "outputs": [
    {
     "data": {
      "text/plain": [
       "[<matplotlib.lines.Line2D at 0x2bad28ee460>]"
      ]
     },
     "execution_count": 176,
     "metadata": {},
     "output_type": "execute_result"
    },
    {
     "data": {
      "image/png": "[encoded data removed]",
      "text/plain": [
       "<Figure size 640x480 with 1 Axes>"
      ]
     },
     "metadata": {},
     "output_type": "display_data"
    }
   ],
   "source": [
    "# desired traj\n",
    "x1 = np.arange(xc1-R1,xsw1,1e-3)\n",
    "x2 = np.arange(xsw1,xsw2,1e-2)\n",
    "x3 = np.arange(xsw3,xsw2,1e-3)\n",
    "x4 = np.arange(xsw3,xc3+R3,1e-3)\n",
    "plt.plot(x1,fun_calc_phi_12_y(x1))\n",
    "plt.plot(x2,fun_calc_phi_2_y(x2))\n",
    "plt.plot(x3,fun_calc_phi_31_y(x3))\n",
    "plt.plot(x4,fun_calc_phi_32_y(x4))\n",
    "plt.plot(x0,y0,\"or\")"
   ]
  },
  {
   "attachments": {},
   "cell_type": "markdown",
   "metadata": {},
   "source": [
    "### S calc"
   ]
  },
  {
   "cell_type": "code",
   "execution_count": 192,
   "metadata": {},
   "outputs": [
    {
     "data": {
      "text/latex": [
       "$\\displaystyle L_1=9.425 - 3 \\operatorname{acos}{\\left(0.333 x + 1 \\right)}$"
      ],
      "text/plain": [
       "<IPython.core.display.Math object>"
      ]
     },
     "metadata": {},
     "output_type": "display_data"
    }
   ],
   "source": [
    "L_1 = (np.pi - sm.acos((x-xc1)/R1) )*R1\n",
    "params = tuple(L_1.free_symbols)\n",
    "s_1 = sm.lambdify(params, L_1, modules='numpy')\n",
    "display_expr(L_1)"
   ]
  },
  {
   "cell_type": "code",
   "execution_count": 206,
   "metadata": {},
   "outputs": [
    {
     "data": {
      "text/latex": [
       "$\\displaystyle L_2=\\left(1.0 \\sin^{2}{\\left(0.5 x + 0.3 \\right)} + 1\\right)^{0.5}$"
      ],
      "text/plain": [
       "<IPython.core.display.Math object>"
      ]
     },
     "metadata": {},
     "output_type": "display_data"
    }
   ],
   "source": [
    "# compute s paths\n",
    "L_2 = sm.sqrt( 1 + ( sm.diff(calc_phi_2_y[0],x) )**2 )\n",
    "display_expr(L_2)\n",
    "\n",
    "params = tuple(L_2.free_symbols)\n",
    "calc_s_2_int = sm.lambdify(params, L_2, modules='numpy')\n",
    "\n",
    "def s_2(x):\n",
    "    return sp.integrate.quad(calc_s_2_int,xsw1,x)[0]"
   ]
  },
  {
   "cell_type": "code",
   "execution_count": 210,
   "metadata": {},
   "outputs": [
    {
     "data": {
      "text/latex": [
       "$\\displaystyle L_3=5 \\operatorname{acos}{\\left(0.2 x - 2.4 \\right)}$"
      ],
      "text/plain": [
       "<IPython.core.display.Math object>"
      ]
     },
     "metadata": {},
     "output_type": "display_data"
    }
   ],
   "source": [
    "L_3 = ( sm.acos((x-xc3)/R3) )*R3\n",
    "params = tuple(L_3.free_symbols)\n",
    "s_3 = sm.lambdify(params, L_3, modules='numpy')\n",
    "display_expr(L_3)"
   ]
  },
  {
   "cell_type": "code",
   "execution_count": 212,
   "metadata": {},
   "outputs": [
    {
     "data": {
      "text/latex": [
       "$\\displaystyle L_4=15.708 - 5 \\operatorname{acos}{\\left(0.2 x - 2.4 \\right)}$"
      ],
      "text/plain": [
       "<IPython.core.display.Math object>"
      ]
     },
     "metadata": {},
     "output_type": "display_data"
    }
   ],
   "source": [
    "L_4 = (np.pi - sm.acos((x-xc3)/R3) )*R3\n",
    "params = tuple(L_4.free_symbols)\n",
    "s_4 = sm.lambdify(params, L_4, modules='numpy')\n",
    "display_expr(L_4)"
   ]
  },
  {
   "cell_type": "code",
   "execution_count": 217,
   "metadata": {},
   "outputs": [],
   "source": [
    "def s(x,x_prev,s_prev):\n",
    "    if x<xc1-R1:\n",
    "        s_l=0\n",
    "    if x<x_prev:\n",
    "        s_l = s_prev\n",
    "    \n",
    "    return s_l"
   ]
  },
  {
   "cell_type": "code",
   "execution_count": 203,
   "metadata": {},
   "outputs": [
    {
     "data": {
      "text/plain": [
       "21.493360270041897"
      ]
     },
     "execution_count": 203,
     "metadata": {},
     "output_type": "execute_result"
    }
   ],
   "source": [
    "s_2(xsw2)-s_1(xsw1)"
   ]
  },
  {
   "cell_type": "code",
   "execution_count": null,
   "metadata": {},
   "outputs": [],
   "source": []
  },
  {
   "attachments": {},
   "cell_type": "markdown",
   "metadata": {},
   "source": [
    "$\\Upsilon(x,y)$ = $\\begin{bmatrix} \\frac{\\partial \\psi(x,y)}{\\partial x} & \\frac{\\partial \\psi(x,y)}{\\partial y} \\\\ & \\\\\\frac{\\partial \\varphi(x,y)}{\\partial x} & \\frac{\\partial \\varphi(x,y)}{\\partial y} \\end{bmatrix}$"
   ]
  },
  {
   "cell_type": "code",
   "execution_count": 182,
   "metadata": {},
   "outputs": [],
   "source": [
    "alpha_asterisk_1 = 1"
   ]
  },
  {
   "cell_type": "code",
   "execution_count": 46,
   "metadata": {},
   "outputs": [
    {
     "data": {
      "text/latex": [
       "$\\displaystyle Jacobian1=\\left[\\begin{matrix}- \\frac{3 y}{x^{2} + y^{2}} & 2 x + 6\\\\\\frac{3 x}{x^{2} + y^{2}} & 2 y - 4\\end{matrix}\\right]$"
      ],
      "text/plain": [
       "<IPython.core.display.Math object>"
      ]
     },
     "metadata": {},
     "output_type": "display_data"
    },
    {
     "data": {
      "text/latex": [
       "$\\displaystyle ztask=\\left[\\begin{matrix}- \\frac{3 y \\left(x \\cos{\\left(\\alpha \\right)} + y \\sin{\\left(\\alpha \\right)}\\right)}{x^{2} + y^{2}} + \\left(2 x + 6\\right) \\left(- x \\sin{\\left(\\alpha \\right)} + y \\cos{\\left(\\alpha \\right)}\\right)\\\\\\frac{3 x \\left(x \\cos{\\left(\\alpha \\right)} + y \\sin{\\left(\\alpha \\right)}\\right)}{x^{2} + y^{2}} + \\left(2 y - 4\\right) \\left(- x \\sin{\\left(\\alpha \\right)} + y \\cos{\\left(\\alpha \\right)}\\right)\\end{matrix}\\right]$"
      ],
      "text/plain": [
       "<IPython.core.display.Math object>"
      ]
     },
     "metadata": {},
     "output_type": "display_data"
    }
   ],
   "source": [
    "# Jacobian1 = sm.Matrix([[sm.diff(psi_1,x),sm.diff(phi_1,x)],[sm.diff(psi_1,y),sm.diff(phi_1,y)]])\n",
    "# display_expr(Jacobian1)\n",
    "\n",
    "\n",
    "\n",
    "# ztask = Jacobian1*zm\n",
    "# display_expr(ztask)"
   ]
  },
  {
   "cell_type": "code",
   "execution_count": 47,
   "metadata": {},
   "outputs": [
    {
     "name": "stdout",
     "output_type": "stream",
     "text": [
      "(y, alpha, x)\n",
      "(x, y)\n"
     ]
    }
   ],
   "source": [
    "params = tuple(ztask.free_symbols)\n",
    "print(params)\n",
    "fun_calc_ztask = sm.lambdify(params, ztask, modules='numpy')\n",
    "\n",
    "params = tuple(phi_1.free_symbols)\n",
    "print(params)\n",
    "fun_calc_phi_1 = sm.lambdify(params, phi_1, modules='numpy')"
   ]
  },
  {
   "cell_type": "code",
   "execution_count": 49,
   "metadata": {},
   "outputs": [
    {
     "name": "stdout",
     "output_type": "stream",
     "text": [
      "[[8.8]\n",
      " [0.4]]\n",
      "11\n"
     ]
    }
   ],
   "source": [
    "x_data = 1\n",
    "y_data = 2\n",
    "print(fun_calc_ztask(x_data,0,y_data))\n",
    "print(fun_calc_phi_1(x0,y0))"
   ]
  }
 ],
 "metadata": {
  "kernelspec": {
   "display_name": "learn-multibody-dynamics",
   "language": "python",
   "name": "python3"
  },
  "language_info": {
   "codemirror_mode": {
    "name": "ipython",
    "version": 3
   },
   "file_extension": ".py",
   "mimetype": "text/x-python",
   "name": "python",
   "nbconvert_exporter": "python",
   "pygments_lexer": "ipython3",
   "version": "3.8.18"
  },
  "orig_nbformat": 4
 },
 "nbformat": 4,
 "nbformat_minor": 2
}
