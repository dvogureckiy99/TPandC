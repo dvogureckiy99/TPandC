{
 "cells": [
  {
   "attachments": {},
   "cell_type": "markdown",
   "metadata": {},
   "source": [
    "#### Лаба 3\n",
    "\n",
    "#### задачи траекторного управления"
   ]
  },
  {
   "attachments": {},
   "cell_type": "markdown",
   "metadata": {},
   "source": [
    "### Given"
   ]
  },
  {
   "cell_type": "code",
   "execution_count": 313,
   "metadata": {},
   "outputs": [],
   "source": [
    "import sympy as sm\n",
    "import numpy as np\n",
    "import scipy as sp\n",
    "import matplotlib.pyplot as plt\n",
    "from IPython.display import display, Math\n",
    "import inspect\n",
    "import bisect\n",
    "\n"
   ]
  },
  {
   "cell_type": "code",
   "execution_count": 4,
   "metadata": {},
   "outputs": [],
   "source": [
    "# robot model parameters\n",
    "m = 2.8 # in kg\n",
    "J = 3 # in kg*m"
   ]
  },
  {
   "cell_type": "code",
   "execution_count": 224,
   "metadata": {},
   "outputs": [],
   "source": [
    "x, y, omega, alpha, alpha_asterisk, vx, vy, Fx, Fy, M  = sm.symbols(\"x y omega alpha alpha_asterisk vx vy Fx Fy M\")\n",
    "A = sm.Matrix( [[1/m,0,0],[0,1/m,0],[0,0,1/J]] )\n",
    "z = sm.Matrix( [[vx],[vy],[omega]] ) # in m frame\n",
    "u = sm.Matrix( [[Fx],[Fy],[M]] )\n",
    "R = sm.Matrix( [[sm.cos(alpha),sm.sin(alpha)],[-sm.sin(alpha),sm.cos(alpha)]] ) # from mobile to base"
   ]
  },
  {
   "cell_type": "code",
   "execution_count": 229,
   "metadata": {},
   "outputs": [],
   "source": [
    "def display_expr(expr):\n",
    "    frame = inspect.currentframe()\n",
    "    frame = inspect.getouterframes(frame)[1]\n",
    "    string = inspect.getframeinfo(frame[0]).code_context[0].strip()\n",
    "    args = string[string.find('(') + 1:-1].split(',')\n",
    "    \n",
    "    names = []\n",
    "    for i in args:\n",
    "        if i.find('=') != -1:\n",
    "            names.append(i.split('=')[1].strip())\n",
    "        else:\n",
    "            names.append(i)\n",
    "    if names[0]=='phi_1':\n",
    "        names[0] = '\\\\varphi_1'\n",
    "    if names[0]=='phi_2':\n",
    "        names[0] = '\\\\varphi_2'\n",
    "    if names[0]=='phi_3':\n",
    "        names[0] = '\\\\varphi_3'\n",
    "    if names[0]=='vm':\n",
    "        names[0] = 'v_m'\n",
    "    if names[0]=='vb':\n",
    "        names[0] = 'v_b'\n",
    "    if names[0]=='dots':\n",
    "        names[0] = '\\\\dot s'\n",
    "    if names[0]=='dote':\n",
    "        names[0] = '\\\\dot e'\n",
    "\n",
    "    expr = expr.xreplace({n : round(n, 3) for n in expr.atoms(sm.Number)})\n",
    "    str = sm.latex(expr)\n",
    "    # str = str.replace('\\\\theta','\\\\vartheta')\n",
    "    str = str.replace('vx','v_x')\n",
    "    str = str.replace('vy','v_y')\n",
    "    str = str.replace('Fx','F_x')\n",
    "    str = str.replace('Fy','F_y') \n",
    "    str = str.replace('\\\\alpha_{asterisk}','\\\\alpha^{*}')\n",
    "\n",
    "    display(Math(names[0] + '=' + str))    "
   ]
  },
  {
   "cell_type": "code",
   "execution_count": 7,
   "metadata": {},
   "outputs": [
    {
     "data": {
      "text/latex": [
       "$\\displaystyle Au=\\left[\\begin{matrix}0.357 F_x\\\\0.357 F_y\\\\0.333 M\\end{matrix}\\right]$"
      ],
      "text/plain": [
       "<IPython.core.display.Math object>"
      ]
     },
     "metadata": {},
     "output_type": "display_data"
    }
   ],
   "source": [
    "Au = A*u\n",
    "display_expr(Au)"
   ]
  },
  {
   "cell_type": "code",
   "execution_count": 233,
   "metadata": {},
   "outputs": [
    {
     "data": {
      "text/latex": [
       "$\\displaystyle v_m=\\left[\\begin{matrix}v_x\\\\v_y\\end{matrix}\\right]$"
      ],
      "text/plain": [
       "<IPython.core.display.Math object>"
      ]
     },
     "metadata": {},
     "output_type": "display_data"
    },
    {
     "data": {
      "text/latex": [
       "$\\displaystyle v_b=\\left[\\begin{matrix}v_x \\cos{\\left(\\alpha \\right)} + v_y \\sin{\\left(\\alpha \\right)}\\\\- v_x \\sin{\\left(\\alpha \\right)} + v_y \\cos{\\left(\\alpha \\right)}\\end{matrix}\\right]$"
      ],
      "text/plain": [
       "<IPython.core.display.Math object>"
      ]
     },
     "metadata": {},
     "output_type": "display_data"
    },
    {
     "data": {
      "text/latex": [
       "$\\displaystyle \\dot s=- \\left(- v_x \\sin{\\left(\\alpha \\right)} + v_y \\cos{\\left(\\alpha \\right)}\\right) \\sin{\\left(\\alpha^{*} \\right)} + \\left(v_x \\cos{\\left(\\alpha \\right)} + v_y \\sin{\\left(\\alpha \\right)}\\right) \\cos{\\left(\\alpha^{*} \\right)}$"
      ],
      "text/plain": [
       "<IPython.core.display.Math object>"
      ]
     },
     "metadata": {},
     "output_type": "display_data"
    },
    {
     "data": {
      "text/latex": [
       "$\\displaystyle \\dot e=\\left(- v_x \\sin{\\left(\\alpha \\right)} + v_y \\cos{\\left(\\alpha \\right)}\\right) \\cos{\\left(\\alpha^{*} \\right)} + \\left(v_x \\cos{\\left(\\alpha \\right)} + v_y \\sin{\\left(\\alpha \\right)}\\right) \\sin{\\left(\\alpha^{*} \\right)}$"
      ],
      "text/plain": [
       "<IPython.core.display.Math object>"
      ]
     },
     "metadata": {},
     "output_type": "display_data"
    }
   ],
   "source": [
    "vm = sm.Matrix([[vx],[vy]])\n",
    "display_expr(vm)\n",
    "vb = R*vm\n",
    "display_expr(vb)\n",
    "dots = (sm.transpose(R.subs(alpha,alpha_asterisk))*vb)[0]\n",
    "display_expr(dots)\n",
    "dote = (sm.transpose(R.subs(alpha,alpha_asterisk))*vb)[1]\n",
    "display_expr(dote)"
   ]
  },
  {
   "cell_type": "code",
   "execution_count": 9,
   "metadata": {},
   "outputs": [
    {
     "data": {
      "text/latex": [
       "$\\displaystyle a=\\left[\\begin{matrix}0.357 F_x \\cos{\\left(\\alpha \\right)} - 0.357 F_y \\sin{\\left(\\alpha \\right)}\\\\0.357 F_x \\sin{\\left(\\alpha \\right)} + 0.357 F_y \\cos{\\left(\\alpha \\right)}\\end{matrix}\\right]$"
      ],
      "text/plain": [
       "<IPython.core.display.Math object>"
      ]
     },
     "metadata": {},
     "output_type": "display_data"
    }
   ],
   "source": [
    "a = (1/m)*sm.transpose(R)*sm.Matrix([[Fx],[Fy]])\n",
    "display_expr(a)"
   ]
  },
  {
   "attachments": {},
   "cell_type": "markdown",
   "metadata": {},
   "source": [
    "### Traj phi"
   ]
  },
  {
   "cell_type": "code",
   "execution_count": 168,
   "metadata": {},
   "outputs": [
    {
     "data": {
      "text/latex": [
       "$\\displaystyle \\varphi_1=\\left(x + 3\\right)^{2} + \\left(y - 2\\right)^{2} - 9$"
      ],
      "text/plain": [
       "<IPython.core.display.Math object>"
      ]
     },
     "metadata": {},
     "output_type": "display_data"
    },
    {
     "data": {
      "text/latex": [
       "$\\displaystyle \\varphi_2=y - 2 \\cos{\\left(0.5 x + 0.3 \\right)} - 2$"
      ],
      "text/plain": [
       "<IPython.core.display.Math object>"
      ]
     },
     "metadata": {},
     "output_type": "display_data"
    },
    {
     "data": {
      "text/latex": [
       "$\\displaystyle \\varphi_3=\\left(x - 12\\right)^{2} + \\left(y - 2\\right)^{2} - 25$"
      ],
      "text/plain": [
       "<IPython.core.display.Math object>"
      ]
     },
     "metadata": {},
     "output_type": "display_data"
    }
   ],
   "source": [
    "#trajectory\n",
    "x0 = -7\n",
    "y0 = 4\n",
    "alpha0 = 3*np.pi/4\n",
    "vs_des1 = 1 \n",
    "vs_des2 = 3\n",
    "vs_des3 = 5\n",
    "\n",
    "R1 = 3\n",
    "xc1 = -3\n",
    "yc1 = 2\n",
    "R3 = 5\n",
    "xc3 = 12\n",
    "yc3 = 2\n",
    "phi_1 = (x-xc1)**2+(y-yc1)**2-R1**2\n",
    "phi_2 = -2*sm.cos(0.5*x+0.3)+y-2\n",
    "phi_3 = (x-xc3)**2 + (y-yc3)**2 - R3**2\n",
    "display_expr(phi_1)\n",
    "display_expr(phi_2)\n",
    "display_expr(phi_3)"
   ]
  },
  {
   "cell_type": "code",
   "execution_count": 169,
   "metadata": {},
   "outputs": [
    {
     "data": {
      "text/latex": [
       "$\\displaystyle \\left[ 2 - \\sqrt{- x \\left(x + 6\\right)}, \\  \\sqrt{- x \\left(x + 6\\right)} + 2\\right]$"
      ],
      "text/plain": [
       "<IPython.core.display.Math object>"
      ]
     },
     "metadata": {},
     "output_type": "display_data"
    }
   ],
   "source": [
    "calc_phi_1_y = sm.solve(phi_1, y)\n",
    "display(Math(sm.latex(calc_phi_1_y)))"
   ]
  },
  {
   "cell_type": "code",
   "execution_count": 170,
   "metadata": {},
   "outputs": [
    {
     "data": {
      "text/latex": [
       "$\\displaystyle \\left[ 2.0 \\cos{\\left(0.5 x + 0.3 \\right)} + 2.0\\right]$"
      ],
      "text/plain": [
       "<IPython.core.display.Math object>"
      ]
     },
     "metadata": {},
     "output_type": "display_data"
    }
   ],
   "source": [
    "calc_phi_2_y = sm.solve(phi_2, y)\n",
    "display(Math(sm.latex(calc_phi_2_y)))"
   ]
  },
  {
   "cell_type": "code",
   "execution_count": 171,
   "metadata": {},
   "outputs": [
    {
     "data": {
      "text/latex": [
       "$\\displaystyle \\left[ 2 - \\sqrt{- \\left(x - 17\\right) \\left(x - 7\\right)}, \\  \\sqrt{- \\left(x - 17\\right) \\left(x - 7\\right)} + 2\\right]$"
      ],
      "text/plain": [
       "<IPython.core.display.Math object>"
      ]
     },
     "metadata": {},
     "output_type": "display_data"
    }
   ],
   "source": [
    "calc_phi_3_y = sm.solve(phi_3, y)\n",
    "display(Math(sm.latex(calc_phi_3_y)))"
   ]
  },
  {
   "attachments": {},
   "cell_type": "markdown",
   "metadata": {},
   "source": [
    "### Traj calc"
   ]
  },
  {
   "cell_type": "code",
   "execution_count": 172,
   "metadata": {},
   "outputs": [
    {
     "name": "stdout",
     "output_type": "stream",
     "text": [
      "(x,)\n",
      "(x,)\n",
      "(x,)\n",
      "(x,)\n",
      "(x,)\n"
     ]
    }
   ],
   "source": [
    "params = tuple(calc_phi_1_y[0].free_symbols)\n",
    "print(params)\n",
    "fun_calc_phi_11_y = sm.lambdify(params, calc_phi_1_y[0], modules='numpy')\n",
    "params = tuple(calc_phi_1_y[1].free_symbols)\n",
    "print(params)\n",
    "fun_calc_phi_12_y = sm.lambdify(params, calc_phi_1_y[1], modules='numpy')\n",
    "\n",
    "params = tuple(calc_phi_2_y[0].free_symbols)\n",
    "print(params)\n",
    "fun_calc_phi_2_y = sm.lambdify(params, calc_phi_2_y[0], modules='numpy')\n",
    "\n",
    "params = tuple(calc_phi_3_y[0].free_symbols)\n",
    "print(params)\n",
    "fun_calc_phi_31_y = sm.lambdify(params, calc_phi_3_y[0], modules='numpy')\n",
    "params = tuple(calc_phi_3_y[1].free_symbols)\n",
    "print(params)\n",
    "fun_calc_phi_32_y = sm.lambdify(params, calc_phi_3_y[1], modules='numpy')"
   ]
  },
  {
   "cell_type": "code",
   "execution_count": 173,
   "metadata": {},
   "outputs": [
    {
     "data": {
      "text/plain": [
       "[<matplotlib.lines.Line2D at 0x2bad288aaf0>]"
      ]
     },
     "execution_count": 173,
     "metadata": {},
     "output_type": "execute_result"
    },
    {
     "data": {
      "image/png": "[encoded data removed]",
      "text/plain": [
       "<Figure size 640x480 with 1 Axes>"
      ]
     },
     "metadata": {},
     "output_type": "display_data"
    }
   ],
   "source": [
    "x1 = np.arange(xc1-R1,xc1+R1,1e-3)\n",
    "x2 = np.arange(-6,17,1e-2)\n",
    "x3 = np.arange(xc3-R3,xc3+R3,1e-3)\n",
    "plt.plot(x1,fun_calc_phi_11_y(x1))\n",
    "plt.plot(x1,fun_calc_phi_12_y(x1))\n",
    "plt.plot(x2,fun_calc_phi_2_y(x2))\n",
    "plt.plot(x3,fun_calc_phi_31_y(x3))\n",
    "plt.plot(x3,fun_calc_phi_32_y(x3))\n",
    "plt.plot(x0,y0,\"or\")"
   ]
  },
  {
   "cell_type": "code",
   "execution_count": 174,
   "metadata": {},
   "outputs": [
    {
     "name": "stdout",
     "output_type": "stream",
     "text": [
      "-0.7583442022818133\n"
     ]
    }
   ],
   "source": [
    "#поиск точек переключений\n",
    "def calc_fun_optim_finding_x(x):\n",
    "    return (fun_calc_phi_12_y(x)-fun_calc_phi_2_y(x))**2\n",
    "xsw1 = sp.optimize.minimize_scalar(calc_fun_optim_finding_x,bounds=(xc1-R1,xc1+R1),method='bounded').x\n",
    "print(xsw1)"
   ]
  },
  {
   "cell_type": "code",
   "execution_count": 175,
   "metadata": {},
   "outputs": [
    {
     "name": "stdout",
     "output_type": "stream",
     "text": [
      "16.775623130982034\n"
     ]
    }
   ],
   "source": [
    "def calc_fun_optim_finding_x(x):\n",
    "    return (fun_calc_phi_2_y(x)-fun_calc_phi_31_y(x))**2\n",
    "xsw2 = sp.optimize.minimize_scalar(calc_fun_optim_finding_x,bounds=(xc3,xc3+R3),method='bounded').x\n",
    "print(xsw2)\n",
    "xsw3 = xc3-R3"
   ]
  },
  {
   "cell_type": "code",
   "execution_count": 244,
   "metadata": {},
   "outputs": [
    {
     "data": {
      "image/png": "[encoded data removed]",
      "text/plain": [
       "<Figure size 640x480 with 1 Axes>"
      ]
     },
     "metadata": {},
     "output_type": "display_data"
    }
   ],
   "source": [
    "# desired traj\n",
    "x1 = np.arange(xc1-R1,xsw1,1e-3)\n",
    "x2 = np.arange(xsw1,xsw2,1e-2)\n",
    "x3 = np.arange(xsw3,xsw2,1e-3)\n",
    "x4 = np.arange(xsw3,xc3+R3,1e-3)\n",
    "plt.plot(x1,fun_calc_phi_12_y(x1))\n",
    "plt.plot(x2,fun_calc_phi_2_y(x2))\n",
    "plt.plot(x3,fun_calc_phi_31_y(x3))\n",
    "plt.plot(x4,fun_calc_phi_32_y(x4))\n",
    "plt.plot(x0,y0,\"or\")\n",
    "plt.grid(True)\n",
    "ax = plt.gca()\n",
    "ax.set_aspect('equal', adjustable='box')"
   ]
  },
  {
   "attachments": {},
   "cell_type": "markdown",
   "metadata": {},
   "source": [
    "### S calc"
   ]
  },
  {
   "cell_type": "code",
   "execution_count": 307,
   "metadata": {},
   "outputs": [],
   "source": [
    "def s_1(x):\n",
    "    return (np.pi - np.arccos((x-xc1)/R1) )*R1"
   ]
  },
  {
   "cell_type": "code",
   "execution_count": 206,
   "metadata": {},
   "outputs": [
    {
     "data": {
      "text/latex": [
       "$\\displaystyle L_2=\\left(1.0 \\sin^{2}{\\left(0.5 x + 0.3 \\right)} + 1\\right)^{0.5}$"
      ],
      "text/plain": [
       "<IPython.core.display.Math object>"
      ]
     },
     "metadata": {},
     "output_type": "display_data"
    }
   ],
   "source": [
    "# compute s paths\n",
    "L_2 = sm.sqrt( 1 + ( sm.diff(calc_phi_2_y[0],x) )**2 )\n",
    "display_expr(L_2)\n",
    "\n",
    "params = tuple(L_2.free_symbols)\n",
    "calc_s_2_int = sm.lambdify(params, L_2, modules='numpy')\n",
    "\n",
    "def s_2(x):\n",
    "    return sp.integrate.quad(calc_s_2_int,xsw1,x)[0]"
   ]
  },
  {
   "cell_type": "code",
   "execution_count": 416,
   "metadata": {},
   "outputs": [],
   "source": [
    "def s_3(x):\n",
    "    return np.arccos((x-xc3)/R3)*R3 - np.arccos((xsw2-xc3)/R3)*R3\n",
    "def s_4(x):\n",
    "    return (np.pi - np.arccos((x-xc3)/R3) )*R3"
   ]
  },
  {
   "attachments": {},
   "cell_type": "markdown",
   "metadata": {},
   "source": [
    "### finding $s_0$"
   ]
  },
  {
   "cell_type": "code",
   "execution_count": 254,
   "metadata": {},
   "outputs": [
    {
     "data": {
      "image/png": "[encoded data removed]",
      "text/plain": [
       "<Figure size 640x480 with 1 Axes>"
      ]
     },
     "metadata": {},
     "output_type": "display_data"
    }
   ],
   "source": [
    "t_data = np.arange(xc1-R1,xc1,1e-2)\n",
    "plt.plot(t_data,(t_data-(xc1-R1))*np.tan(alpha0 - np.pi) + y0)\n",
    "plt.plot(t_data,fun_calc_phi_12_y(t_data))\n",
    "plt.grid(True)\n",
    "ax = plt.gca()\n",
    "ax.set_aspect('equal', adjustable='box')"
   ]
  },
  {
   "cell_type": "code",
   "execution_count": 255,
   "metadata": {},
   "outputs": [
    {
     "name": "stdout",
     "output_type": "stream",
     "text": [
      "-5.561554301636298\n",
      "1.6423682554168426\n"
     ]
    }
   ],
   "source": [
    "# finding s0\n",
    "def fun_optim_s0(x):\n",
    "    return ( (x-(xc1-R1))*np.tan(alpha0 - np.pi) + y0 - fun_calc_phi_12_y(x) )**2\n",
    "\n",
    "x0_4s0 = sp.optimize.minimize_scalar(fun_optim_s0,bounds=(xc1-R1,xc1),method='bounded').x\n",
    "s0 = s_1(x0_4s0)\n",
    "print(x0_4s0)\n",
    "print(s0)"
   ]
  },
  {
   "cell_type": "code",
   "execution_count": 463,
   "metadata": {},
   "outputs": [
    {
     "name": "stdout",
     "output_type": "stream",
     "text": [
      "58.64969623920736\n",
      "[0, 7.243989865398947, 28.737350135440845, 42.94173297125839, 58.64969623920736]\n",
      "21.493360270041897\n",
      "14.204382835817544\n",
      "15.70796326794897\n"
     ]
    }
   ],
   "source": [
    "s_len = s_1(xsw1) + s_2(xsw2) + s_3(xc3-R3) + s_4(xc3+R3)\n",
    "print(s_len)\n",
    "s_all = [0,s_1(xsw1),s_1(xsw1) + s_2(xsw2),s_1(xsw1) + s_2(xsw2) + s_3(xc3-R3),s_1(xsw1) + s_2(xsw2) + s_3(xc3-R3) + s_4(xc3+R3)]\n",
    "print(s_all)\n",
    "print(s_all[2]-s_all[1])\n",
    "print(s_all[3]-s_all[2])\n",
    "print(s_all[4]-s_all[3])"
   ]
  },
  {
   "attachments": {},
   "cell_type": "markdown",
   "metadata": {},
   "source": [
    "### control"
   ]
  },
  {
   "attachments": {},
   "cell_type": "markdown",
   "metadata": {},
   "source": [
    "$\\Upsilon(x,y)$ = $\\begin{bmatrix} \\frac{\\partial \\psi(x,y)}{\\partial x} & \\frac{\\partial \\psi(x,y)}{\\partial y} \\\\ & \\\\\\frac{\\partial \\varphi(x,y)}{\\partial x} & \\frac{\\partial \\varphi(x,y)}{\\partial y} \\end{bmatrix}$"
   ]
  },
  {
   "cell_type": "code",
   "execution_count": 496,
   "metadata": {},
   "outputs": [],
   "source": [
    "# calc alpha_asterisk\n",
    "s = sm.symbols(\"s\")\n",
    "phi_12_x = sm.solve( ( sm.pi - sm.acos((x-xc1)/R1) )*R1 - s , x)[0] \n",
    "params = tuple(phi_12_x.free_symbols)\n",
    "calc_phi_1_x = sm.lambdify(params, phi_12_x, modules='numpy')\n",
    "\n",
    "dotphi_1 = sm.diff(calc_phi_1_y[1],x)\n",
    "params = tuple(dotphi_1.free_symbols)\n",
    "calc_dotphi_1 = sm.lambdify(params, dotphi_1, modules='numpy')\n",
    "\n",
    "def fun_optim_s2_x(x,s):\n",
    "    return (s_2(x)-s)**2\n",
    "def calc_phi_2_x(s):\n",
    "    return sp.optimize.minimize(fun_optim_s2_x,(xsw1+xsw2)/2,args=s).x[0]\n",
    "dotphi_2 = sm.diff(calc_phi_2_y[0],x)\n",
    "params = tuple(dotphi_2.free_symbols)\n",
    "calc_dotphi_2 = sm.lambdify(params, dotphi_2, modules='numpy')\n",
    "\n",
    "phi_3_x = sm.solve( (sm.acos((x-xc3)/R3))*R3 - (sm.acos((xsw2-xc3)/R3))*R3 - s , x )[0] \n",
    "params = tuple(phi_3_x.free_symbols)\n",
    "calc_phi_3_x = sm.lambdify(params, phi_3_x, modules='numpy')\n",
    "\n",
    "dotphi_3 = sm.diff(calc_phi_3_y[0],x)\n",
    "params = tuple(dotphi_3.free_symbols)\n",
    "calc_dotphi_3 = sm.lambdify(params, dotphi_3, modules='numpy')\n",
    "\n",
    "phi_4_x = sm.solve( (sm.pi - sm.acos((x-xc3)/R3) )*R3 - s , x )[0] \n",
    "params = tuple(phi_4_x.free_symbols)\n",
    "calc_phi_4_x = sm.lambdify(params, phi_4_x, modules='numpy')\n",
    "\n",
    "dotphi_4 = sm.diff(calc_phi_3_y[1],x)\n",
    "params = tuple(dotphi_4.free_symbols)\n",
    "calc_dotphi_4 = sm.lambdify(params, dotphi_4, modules='numpy')\n",
    "\n",
    "def calc_alpha_asterisk(s):\n",
    "    if s<=0:\n",
    "        val_asterisk = 1e6\n",
    "    elif s>=s_all[4]:\n",
    "        val_asterisk = -1e6\n",
    "    elif s==s_all[3]:\n",
    "        val_asterisk = 1e6\n",
    "    elif s==s_all[2]:\n",
    "        val_asterisk = 1.7523330864423152\n",
    "    elif s==s_all[1]: \n",
    "        val_asterisk = -0.5226298800644945\n",
    "    else:\n",
    "        i = search_index(s)\n",
    "        if i==len(s_all)-1:\n",
    "            i-=1\n",
    "        if i==0:\n",
    "            x = calc_phi_1_x(s)\n",
    "            val_asterisk = calc_dotphi_1(x)\n",
    "        elif i==1:\n",
    "            x = calc_phi_2_x(s-s_all[1])\n",
    "            val_asterisk = calc_dotphi_2(x)\n",
    "        elif i==2:\n",
    "            x = calc_phi_3_x(s-s_all[2])\n",
    "            val_asterisk = calc_dotphi_3(x)\n",
    "        elif i==3:\n",
    "            x = calc_phi_4_x(s-s_all[3])\n",
    "            val_asterisk = calc_dotphi_4(x)\n",
    "        \n",
    "        # print(i)\n",
    "        # print(x)\n",
    "    return val_asterisk\n",
    "\n",
    "def search_index(x):\n",
    "    return bisect.bisect(s_all,x) - 1\n",
    "\n",
    "# calc_alpha_asterisk((s_all[4]-s_all[3])/2+s_all[3])\n",
    "# calc_alpha_asterisk(58)\n",
    "# (calc_dotphi_3(calc_phi_3_x(s_all[2])) + calc_dotphi_2(calc_phi_2_x(s_all[2]-s_all[1])) ) /2\n",
    "# (calc_alpha_asterisk(s_all[1]-1e-6) + calc_alpha_asterisk(s_all[1]))/2"
   ]
  },
  {
   "cell_type": "code",
   "execution_count": null,
   "metadata": {},
   "outputs": [],
   "source": [
    "# calc curvature of second path\n"
   ]
  },
  {
   "cell_type": "code",
   "execution_count": null,
   "metadata": {},
   "outputs": [],
   "source": [
    "# calc curvature\n",
    "def curvature(s):\n",
    "    i = search_index(s)\n",
    "    if i==len(s_all)-1:\n",
    "        i-=1\n",
    "    if i==0:\n",
    "        xi=1/R1\n",
    "    elif i==1:\n",
    "\n",
    "    else:\n",
    "        xi=1/R3\n",
    "    return xi"
   ]
  },
  {
   "cell_type": "code",
   "execution_count": 432,
   "metadata": {},
   "outputs": [
    {
     "name": "stdout",
     "output_type": "stream",
     "text": [
      "11.729939247841472\n"
     ]
    }
   ],
   "source": [
    "Vs = 5\n",
    "t_all = s_all[-1]/Vs\n",
    "print(t_all)"
   ]
  },
  {
   "cell_type": "code",
   "execution_count": 46,
   "metadata": {},
   "outputs": [
    {
     "data": {
      "text/latex": [
       "$\\displaystyle Jacobian1=\\left[\\begin{matrix}- \\frac{3 y}{x^{2} + y^{2}} & 2 x + 6\\\\\\frac{3 x}{x^{2} + y^{2}} & 2 y - 4\\end{matrix}\\right]$"
      ],
      "text/plain": [
       "<IPython.core.display.Math object>"
      ]
     },
     "metadata": {},
     "output_type": "display_data"
    },
    {
     "data": {
      "text/latex": [
       "$\\displaystyle ztask=\\left[\\begin{matrix}- \\frac{3 y \\left(x \\cos{\\left(\\alpha \\right)} + y \\sin{\\left(\\alpha \\right)}\\right)}{x^{2} + y^{2}} + \\left(2 x + 6\\right) \\left(- x \\sin{\\left(\\alpha \\right)} + y \\cos{\\left(\\alpha \\right)}\\right)\\\\\\frac{3 x \\left(x \\cos{\\left(\\alpha \\right)} + y \\sin{\\left(\\alpha \\right)}\\right)}{x^{2} + y^{2}} + \\left(2 y - 4\\right) \\left(- x \\sin{\\left(\\alpha \\right)} + y \\cos{\\left(\\alpha \\right)}\\right)\\end{matrix}\\right]$"
      ],
      "text/plain": [
       "<IPython.core.display.Math object>"
      ]
     },
     "metadata": {},
     "output_type": "display_data"
    }
   ],
   "source": [
    "# Jacobian1 = sm.Matrix([[sm.diff(psi_1,x),sm.diff(phi_1,x)],[sm.diff(psi_1,y),sm.diff(phi_1,y)]])\n",
    "# display_expr(Jacobian1)\n",
    "\n",
    "\n",
    "\n",
    "# ztask = Jacobian1*zm\n",
    "# display_expr(ztask)"
   ]
  },
  {
   "cell_type": "code",
   "execution_count": 47,
   "metadata": {},
   "outputs": [
    {
     "name": "stdout",
     "output_type": "stream",
     "text": [
      "(y, alpha, x)\n",
      "(x, y)\n"
     ]
    }
   ],
   "source": [
    "params = tuple(ztask.free_symbols)\n",
    "print(params)\n",
    "fun_calc_ztask = sm.lambdify(params, ztask, modules='numpy')\n",
    "\n",
    "params = tuple(phi_1.free_symbols)\n",
    "print(params)\n",
    "fun_calc_phi_1 = sm.lambdify(params, phi_1, modules='numpy')"
   ]
  },
  {
   "cell_type": "code",
   "execution_count": 49,
   "metadata": {},
   "outputs": [
    {
     "name": "stdout",
     "output_type": "stream",
     "text": [
      "[[8.8]\n",
      " [0.4]]\n",
      "11\n"
     ]
    }
   ],
   "source": [
    "x_data = 1\n",
    "y_data = 2\n",
    "print(fun_calc_ztask(x_data,0,y_data))\n",
    "print(fun_calc_phi_1(x0,y0))"
   ]
  }
 ],
 "metadata": {
  "kernelspec": {
   "display_name": "learn-multibody-dynamics",
   "language": "python",
   "name": "python3"
  },
  "language_info": {
   "codemirror_mode": {
    "name": "ipython",
    "version": 3
   },
   "file_extension": ".py",
   "mimetype": "text/x-python",
   "name": "python",
   "nbconvert_exporter": "python",
   "pygments_lexer": "ipython3",
   "version": "3.8.18"
  },
  "orig_nbformat": 4
 },
 "nbformat": 4,
 "nbformat_minor": 2
}
