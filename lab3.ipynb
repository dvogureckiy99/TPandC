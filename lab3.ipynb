{
 "cells": [
  {
   "attachments": {},
   "cell_type": "markdown",
   "metadata": {},
   "source": [
    "#### Лаба 3\n",
    "\n",
    "#### задачи траекторного управления\n",
    "\n"
   ]
  },
  {
   "cell_type": "code",
   "execution_count": 3,
   "metadata": {},
   "outputs": [],
   "source": [
    "import sympy as sm\n",
    "import numpy as np\n",
    "import scipy as sp\n",
    "import matplotlib.pyplot as plt\n",
    "from IPython.display import display, Math\n",
    "import inspect"
   ]
  },
  {
   "cell_type": "code",
   "execution_count": 4,
   "metadata": {},
   "outputs": [],
   "source": [
    "# robot model parameters\n",
    "m = 2.8 # in kg\n",
    "J = 3 # in kg*m"
   ]
  },
  {
   "cell_type": "code",
   "execution_count": 5,
   "metadata": {},
   "outputs": [],
   "source": [
    "x, y, omega, alpha, vx, vy, Fx, Fy, M  = sm.symbols(\"x y omega alpha vx vy Fx Fy M\")\n",
    "A = sm.Matrix( [[1/m,0,0],[0,1/m,0],[0,0,1/J]] )\n",
    "z = sm.Matrix( [[vx],[vy],[omega]] ) # in m frame\n",
    "u = sm.Matrix( [[Fx],[Fy],[M]] )\n",
    "R = sm.Matrix( [[sm.cos(alpha),sm.sin(alpha)],[-sm.sin(alpha),sm.cos(alpha)]] )"
   ]
  },
  {
   "cell_type": "code",
   "execution_count": 6,
   "metadata": {},
   "outputs": [],
   "source": [
    "def display_expr(expr):\n",
    "    frame = inspect.currentframe()\n",
    "    frame = inspect.getouterframes(frame)[1]\n",
    "    string = inspect.getframeinfo(frame[0]).code_context[0].strip()\n",
    "    args = string[string.find('(') + 1:-1].split(',')\n",
    "    \n",
    "    names = []\n",
    "    for i in args:\n",
    "        if i.find('=') != -1:\n",
    "            names.append(i.split('=')[1].strip())\n",
    "        \n",
    "        else:\n",
    "            names.append(i)\n",
    "    if names[0]=='phi_1':\n",
    "        names[0] = '\\\\varphi_1'\n",
    "    if names[0]=='phi_2':\n",
    "        names[0] = '\\\\varphi_2'\n",
    "    if names[0]=='phi_3':\n",
    "        names[0] = '\\\\varphi_3'\n",
    "    expr = expr.xreplace({n : round(n, 3) for n in expr.atoms(sm.Number)})\n",
    "    str = sm.latex(expr)\n",
    "    # str = str.replace('\\\\theta','\\\\vartheta')\n",
    "    str = str.replace('vx','v_x')\n",
    "    str = str.replace('vy','v_y')\n",
    "    str = str.replace('Fx','F_x')\n",
    "    str = str.replace('Fy','F_y')\n",
    "    \n",
    "    display(Math(names[0] + '=' + str))    "
   ]
  },
  {
   "cell_type": "code",
   "execution_count": 7,
   "metadata": {},
   "outputs": [
    {
     "data": {
      "text/latex": [
       "$\\displaystyle Au=\\left[\\begin{matrix}0.357 F_x\\\\0.357 F_y\\\\0.333 M\\end{matrix}\\right]$"
      ],
      "text/plain": [
       "<IPython.core.display.Math object>"
      ]
     },
     "metadata": {},
     "output_type": "display_data"
    }
   ],
   "source": [
    "Au = A*u\n",
    "display_expr(Au)"
   ]
  },
  {
   "cell_type": "code",
   "execution_count": 8,
   "metadata": {},
   "outputs": [
    {
     "data": {
      "text/latex": [
       "$\\displaystyle v=\\left[\\begin{matrix}v_x \\cos{\\left(\\alpha \\right)} - v_y \\sin{\\left(\\alpha \\right)}\\\\v_x \\sin{\\left(\\alpha \\right)} + v_y \\cos{\\left(\\alpha \\right)}\\end{matrix}\\right]$"
      ],
      "text/plain": [
       "<IPython.core.display.Math object>"
      ]
     },
     "metadata": {},
     "output_type": "display_data"
    }
   ],
   "source": [
    "v = sm.transpose(R)*sm.Matrix([[vx],[vy]])\n",
    "display_expr(v)"
   ]
  },
  {
   "cell_type": "code",
   "execution_count": 9,
   "metadata": {},
   "outputs": [
    {
     "data": {
      "text/latex": [
       "$\\displaystyle a=\\left[\\begin{matrix}0.357 F_x \\cos{\\left(\\alpha \\right)} - 0.357 F_y \\sin{\\left(\\alpha \\right)}\\\\0.357 F_x \\sin{\\left(\\alpha \\right)} + 0.357 F_y \\cos{\\left(\\alpha \\right)}\\end{matrix}\\right]$"
      ],
      "text/plain": [
       "<IPython.core.display.Math object>"
      ]
     },
     "metadata": {},
     "output_type": "display_data"
    }
   ],
   "source": [
    "a = (1/m)*sm.transpose(R)*sm.Matrix([[Fx],[Fy]])\n",
    "display_expr(a)"
   ]
  },
  {
   "cell_type": "code",
   "execution_count": 52,
   "metadata": {},
   "outputs": [
    {
     "data": {
      "text/latex": [
       "$\\displaystyle \\varphi_1=\\left(x + 3\\right)^{2} + \\left(y - 2\\right)^{2} - 9$"
      ],
      "text/plain": [
       "<IPython.core.display.Math object>"
      ]
     },
     "metadata": {},
     "output_type": "display_data"
    },
    {
     "data": {
      "text/latex": [
       "$\\displaystyle \\varphi_2=y - 2 \\cos{\\left(0.5 x + 0.3 \\right)} - 2$"
      ],
      "text/plain": [
       "<IPython.core.display.Math object>"
      ]
     },
     "metadata": {},
     "output_type": "display_data"
    },
    {
     "data": {
      "text/latex": [
       "$\\displaystyle \\varphi_3=\\left(x - 12\\right)^{2} + \\left(y - 2\\right)^{2} - 25$"
      ],
      "text/plain": [
       "<IPython.core.display.Math object>"
      ]
     },
     "metadata": {},
     "output_type": "display_data"
    }
   ],
   "source": [
    "#trajectory\n",
    "x0 = -7\n",
    "y0 = 4\n",
    "alpha0 = 3*np.pi/4\n",
    "vs_des1 = 1 \n",
    "vs_des2 = 3\n",
    "vs_des3 = 5\n",
    "\n",
    "R1 = 3\n",
    "xc1 = -3\n",
    "yc1 = 2\n",
    "R3 = 5\n",
    "xc3 = 12\n",
    "yc3 = 2\n",
    "phi_1 = (x-xc1)**2+(y-yc1)**2-R1**2\n",
    "phi_2 = -2*sm.cos(0.5*x+0.3)+y-2\n",
    "phi_3 = (x-xc3)**2 + (y-yc3)**2 - R3**2\n",
    "display_expr(phi_1)\n",
    "display_expr(phi_2)\n",
    "display_expr(phi_3)"
   ]
  },
  {
   "cell_type": "code",
   "execution_count": 11,
   "metadata": {},
   "outputs": [
    {
     "data": {
      "text/latex": [
       "$\\displaystyle \\left[ 2 - \\sqrt{- x \\left(x + 6\\right)}, \\  \\sqrt{- x \\left(x + 6\\right)} + 2\\right]$"
      ],
      "text/plain": [
       "<IPython.core.display.Math object>"
      ]
     },
     "metadata": {},
     "output_type": "display_data"
    }
   ],
   "source": [
    "calc_phi_1_y = sm.solve(phi_1, y)\n",
    "display(Math(sm.latex(calc_phi_1_y)))"
   ]
  },
  {
   "cell_type": "code",
   "execution_count": 12,
   "metadata": {},
   "outputs": [
    {
     "data": {
      "text/latex": [
       "$\\displaystyle \\left[ 2.0 \\cos{\\left(0.5 x + 0.3 \\right)} + 2.0\\right]$"
      ],
      "text/plain": [
       "<IPython.core.display.Math object>"
      ]
     },
     "metadata": {},
     "output_type": "display_data"
    }
   ],
   "source": [
    "calc_phi_2_y = sm.solve(phi_2, y)\n",
    "display(Math(sm.latex(calc_phi_2_y)))"
   ]
  },
  {
   "cell_type": "code",
   "execution_count": 13,
   "metadata": {},
   "outputs": [
    {
     "data": {
      "text/latex": [
       "$\\displaystyle \\left[ 2 - \\sqrt{- \\left(x - 17\\right) \\left(x - 7\\right)}, \\  \\sqrt{- \\left(x - 17\\right) \\left(x - 7\\right)} + 2\\right]$"
      ],
      "text/plain": [
       "<IPython.core.display.Math object>"
      ]
     },
     "metadata": {},
     "output_type": "display_data"
    }
   ],
   "source": [
    "calc_phi_3_y = sm.solve(phi_3, y)\n",
    "display(Math(sm.latex(calc_phi_3_y)))"
   ]
  },
  {
   "cell_type": "code",
   "execution_count": 16,
   "metadata": {},
   "outputs": [
    {
     "name": "stdout",
     "output_type": "stream",
     "text": [
      "(x,)\n",
      "(x,)\n",
      "(x,)\n",
      "(x,)\n",
      "(x,)\n"
     ]
    }
   ],
   "source": [
    "params = tuple(calc_phi_1_y[0].free_symbols)\n",
    "print(params)\n",
    "fun_calc_phi_11_y = sm.lambdify(params, calc_phi_1_y[0], modules='numpy')\n",
    "params = tuple(calc_phi_1_y[1].free_symbols)\n",
    "print(params)\n",
    "fun_calc_phi_12_y = sm.lambdify(params, calc_phi_1_y[1], modules='numpy')\n",
    "\n",
    "params = tuple(calc_phi_2_y[0].free_symbols)\n",
    "print(params)\n",
    "fun_calc_phi_2_y = sm.lambdify(params, calc_phi_2_y[0], modules='numpy')\n",
    "\n",
    "params = tuple(calc_phi_3_y[0].free_symbols)\n",
    "print(params)\n",
    "fun_calc_phi_31_y = sm.lambdify(params, calc_phi_3_y[0], modules='numpy')\n",
    "params = tuple(calc_phi_3_y[1].free_symbols)\n",
    "print(params)\n",
    "fun_calc_phi_32_y = sm.lambdify(params, calc_phi_3_y[1], modules='numpy')"
   ]
  },
  {
   "cell_type": "code",
   "execution_count": 59,
   "metadata": {},
   "outputs": [
    {
     "data": {
      "text/plain": [
       "[<matplotlib.lines.Line2D at 0x2bac378a6d0>]"
      ]
     },
     "execution_count": 59,
     "metadata": {},
     "output_type": "execute_result"
    },
    {
     "data": {
      "image/png": "[encoded data removed]",
      "text/plain": [
       "<Figure size 640x480 with 1 Axes>"
      ]
     },
     "metadata": {},
     "output_type": "display_data"
    }
   ],
   "source": [
    "x1 = np.arange(xc1-R1,xc1+R1,1e-3)\n",
    "x2 = np.arange(-6,17,1e-2)\n",
    "x3 = np.arange(xc3-R3,xc3+R3,1e-3)\n",
    "plt.plot(x1,fun_calc_phi_11_y(x1))\n",
    "plt.plot(x1,fun_calc_phi_12_y(x1))\n",
    "plt.plot(x2,fun_calc_phi_2_y(x2))\n",
    "plt.plot(x3,fun_calc_phi_31_y(x3))\n",
    "plt.plot(x3,fun_calc_phi_32_y(x3))\n",
    "plt.plot(x0,y0,\"or\")"
   ]
  },
  {
   "cell_type": "code",
   "execution_count": null,
   "metadata": {},
   "outputs": [],
   "source": [
    "#"
   ]
  },
  {
   "attachments": {},
   "cell_type": "markdown",
   "metadata": {},
   "source": [
    "$\\Upsilon(x,y)$ = $\\begin{bmatrix} \\frac{\\partial \\psi(x,y)}{\\partial x} & \\frac{\\partial \\psi(x,y)}{\\partial y} \\\\ & \\\\\\frac{\\partial \\varphi(x,y)}{\\partial x} & \\frac{\\partial \\varphi(x,y)}{\\partial y} \\end{bmatrix}$"
   ]
  },
  {
   "cell_type": "code",
   "execution_count": 45,
   "metadata": {},
   "outputs": [
    {
     "data": {
      "text/latex": [
       "$\\displaystyle psi_1=3 \\operatorname{atan}_{2}{\\left(y,x \\right)}$"
      ],
      "text/plain": [
       "<IPython.core.display.Math object>"
      ]
     },
     "metadata": {},
     "output_type": "display_data"
    }
   ],
   "source": [
    "psi_1 = R1*sm.atan2(y,x)\n",
    "display_expr(psi_1)"
   ]
  },
  {
   "cell_type": "code",
   "execution_count": 46,
   "metadata": {},
   "outputs": [
    {
     "data": {
      "text/latex": [
       "$\\displaystyle Jacobian1=\\left[\\begin{matrix}- \\frac{3 y}{x^{2} + y^{2}} & 2 x + 6\\\\\\frac{3 x}{x^{2} + y^{2}} & 2 y - 4\\end{matrix}\\right]$"
      ],
      "text/plain": [
       "<IPython.core.display.Math object>"
      ]
     },
     "metadata": {},
     "output_type": "display_data"
    },
    {
     "data": {
      "text/latex": [
       "$\\displaystyle ztask=\\left[\\begin{matrix}- \\frac{3 y \\left(x \\cos{\\left(\\alpha \\right)} + y \\sin{\\left(\\alpha \\right)}\\right)}{x^{2} + y^{2}} + \\left(2 x + 6\\right) \\left(- x \\sin{\\left(\\alpha \\right)} + y \\cos{\\left(\\alpha \\right)}\\right)\\\\\\frac{3 x \\left(x \\cos{\\left(\\alpha \\right)} + y \\sin{\\left(\\alpha \\right)}\\right)}{x^{2} + y^{2}} + \\left(2 y - 4\\right) \\left(- x \\sin{\\left(\\alpha \\right)} + y \\cos{\\left(\\alpha \\right)}\\right)\\end{matrix}\\right]$"
      ],
      "text/plain": [
       "<IPython.core.display.Math object>"
      ]
     },
     "metadata": {},
     "output_type": "display_data"
    }
   ],
   "source": [
    "Jacobian1 = sm.Matrix([[sm.diff(psi_1,x),sm.diff(phi_1,x)],[sm.diff(psi_1,y),sm.diff(phi_1,y)]])\n",
    "display_expr(Jacobian1)\n",
    "\n",
    "zb = sm.Matrix([[x],[y]])\n",
    "zm = R*zb \n",
    "ztask = Jacobian1*zm\n",
    "display_expr(ztask)"
   ]
  },
  {
   "cell_type": "code",
   "execution_count": 47,
   "metadata": {},
   "outputs": [
    {
     "name": "stdout",
     "output_type": "stream",
     "text": [
      "(y, alpha, x)\n",
      "(x, y)\n"
     ]
    }
   ],
   "source": [
    "params = tuple(ztask.free_symbols)\n",
    "print(params)\n",
    "fun_calc_ztask = sm.lambdify(params, ztask, modules='numpy')\n",
    "\n",
    "params = tuple(phi_1.free_symbols)\n",
    "print(params)\n",
    "fun_calc_phi_1 = sm.lambdify(params, phi_1, modules='numpy')"
   ]
  },
  {
   "cell_type": "code",
   "execution_count": 49,
   "metadata": {},
   "outputs": [
    {
     "name": "stdout",
     "output_type": "stream",
     "text": [
      "[[8.8]\n",
      " [0.4]]\n",
      "11\n"
     ]
    }
   ],
   "source": [
    "x_data = 1\n",
    "y_data = 2\n",
    "print(fun_calc_ztask(x_data,0,y_data))\n",
    "print(fun_calc_phi_1(x0,y0))"
   ]
  }
 ],
 "metadata": {
  "kernelspec": {
   "display_name": "learn-multibody-dynamics",
   "language": "python",
   "name": "python3"
  },
  "language_info": {
   "codemirror_mode": {
    "name": "ipython",
    "version": 3
   },
   "file_extension": ".py",
   "mimetype": "text/x-python",
   "name": "python",
   "nbconvert_exporter": "python",
   "pygments_lexer": "ipython3",
   "version": "3.8.18"
  },
  "orig_nbformat": 4
 },
 "nbformat": 4,
 "nbformat_minor": 2
}
