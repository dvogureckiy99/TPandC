{
 "cells": [
  {
   "cell_type": "code",
   "execution_count": 60,
   "metadata": {},
   "outputs": [
    {
     "data": {
      "text/plain": [
       "'1.10.1'"
      ]
     },
     "execution_count": 60,
     "metadata": {},
     "output_type": "execute_result"
    }
   ],
   "source": [
    "import sympy as sm\n",
    "import numpy as np\n",
    "import scipy as sp\n",
    "import matplotlib.pyplot as plt\n",
    "import math as m\n",
    "import bisect\n",
    "\n",
    "sp.__version__"
   ]
  },
  {
   "attachments": {},
   "cell_type": "markdown",
   "metadata": {},
   "source": [
    "https://docs.scipy.org/doc/scipy/reference/generated/scipy.interpolate.make_interp_spline.html#scipy.interpolate.make_interp_spline"
   ]
  },
  {
   "attachments": {},
   "cell_type": "markdown",
   "metadata": {},
   "source": [
    "#### Лаба 1\n",
    "#### Алгоритмы планирования траекторий\n",
    "\n",
    "1. Генерация $\\mathcal{C}^0$ гладкой траектории через 10 точек. \n",
    "2. Генерация $\\mathcal{C}^1$ гладкой траектории\n",
    "3. Генерация $\\mathcal{C}^2$ гладкой траектории\n",
    "\n",
    "#### Вариант 5"
   ]
  },
  {
   "cell_type": "code",
   "execution_count": 7,
   "metadata": {},
   "outputs": [],
   "source": [
    "# Координаты точек:\n",
    "gx = np.float32(np.array([15,5,7,9,18,13,2,-2,1,3]))\n",
    "gy = np.float32(np.array([ 6,4,15,8,11,17,23,19,1,13]))\n",
    "# coordinates = {'x':np.array(x), 'y':np.array(y)}"
   ]
  },
  {
   "cell_type": "code",
   "execution_count": 329,
   "metadata": {},
   "outputs": [],
   "source": [
    "class PathPlanning2D:\n",
    "    def __init__(self, x, y, curvature=\"C0\", Rmax = 0.25):\n",
    "        self.s = []\n",
    "        self.p_I = np.array([x, y])\n",
    "        self.p_P = []\n",
    "        self.R = []\n",
    "        self.phi = []\n",
    "        self.nx = np.size(x,0)\n",
    "        self.curvature = curvature\n",
    "        self.slpine_C0(x,y)\n",
    "    \n",
    "    def slpine_C0(self,x,y):\n",
    "        self.phi = self.__calc_phi(x,y) # угловая ориентация первого участка пути\n",
    "        \n",
    "        for i in np.arange(self.nx-1):\n",
    "            self.R.append( np.array( [[np.cos(self.phi[i]),np.sin(self.phi[i])],\n",
    "                                      [-np.sin(self.phi[i]),np.cos(self.phi[i])]] ) )\n",
    "            \n",
    "            if not i==(self.nx-2):\n",
    "                p_P = np.array([]).reshape(2,0)\n",
    "                for j in np.arange(3): # 3 \n",
    "                    p_P = np.hstack((p_P,  np.dot( self.R[i], ( p_I.T[j+i].reshape(2,1) -\\\n",
    "                                p_I.T[i].reshape(2,1) ) ) ) ) \n",
    "                self.p_P.append(p_P)\n",
    "            else:\n",
    "                p_P = np.array([]).reshape(2,0)\n",
    "                for j in np.arange(2): # 3 \n",
    "                    p_P = np.hstack((p_P,  np.dot( self.R[i], ( p_I.T[j+i].reshape(2,1) -\\\n",
    "                                p_I.T[i].reshape(2,1) ) ) ) ) \n",
    "                self.p_P.append(p_P)\n",
    "        \n",
    "        # self.__solve_three_point_task(x,y)\n",
    "        self.s = self.__calc_s() # point's positions in S^0 curve\n",
    "        \n",
    "        \n",
    "    # def __solve_three_point_task(self,x,y):\n",
    "\n",
    "    def calc_curvature(self, s):\n",
    "        i = self.__search_index(s)\n",
    "        if i==self.nx-1:\n",
    "            i-=1\n",
    "        if self.curvature == \"C0\":\n",
    "            k=0\n",
    "            # phi = self.phi[i] + m.pi/2\n",
    "            # if phi>m.pi/2 and phi<-m.pi/2:\n",
    "            #     k = -np.tan(phi)\n",
    "            # else:\n",
    "            #     k = np.tan(phi)\n",
    "        return k\n",
    "\n",
    "    def calc_position(self, s):\n",
    "        if s < self.s[0]:\n",
    "            return None\n",
    "        elif s > self.s[-1]:\n",
    "            return None\n",
    "        i = self.__search_index(s)\n",
    "        ds = s - self.s[i]\n",
    "        if self.curvature == \"C0\":\n",
    "            p_start = self.p_I.T[i].reshape(2,1) \n",
    "            if i==len(self.s)-1:\n",
    "                i-=1\n",
    "            p = p_start + np.dot( np.transpose(self.R[i]), np.array([0,ds]).reshape(2,1) )\n",
    "        return p[0][0],p[1][0]\n",
    "\n",
    "    def __search_index(self, x):\n",
    "        return bisect.bisect(self.s, x) - 1\n",
    "\n",
    "    def __calc_s(self):\n",
    "        s = [0]\n",
    "        for i in np.arange(len(self.p_P)):\n",
    "            s = np.append(s,self.p_P[i][1][1])\n",
    "        s = np.cumsum(s)\n",
    "        return s\n",
    "\n",
    "    def __calc_phi(self,x,y):\n",
    "        phi = []\n",
    "        for i in np.arange(self.nx-1):\n",
    "            phi = np.append(phi,np.arctan2(y[i+1]-y[i],x[i+1]-x[i]))\n",
    "            if phi[i] < 0:\n",
    "                phi[i] = 2*m.pi + phi[i]\n",
    "            phi[i] = phi[i] - m.pi/2\n",
    "        return phi\n",
    "    \n"
   ]
  },
  {
   "cell_type": "code",
   "execution_count": 330,
   "metadata": {},
   "outputs": [],
   "source": [
    "ds = 0.1  # [m] distance of each interpolated points\n",
    "Rmax=1/2.15\n",
    "curvature = \"C0\"\n",
    "pplan_C0 = PathPlanning2D(gx,gy,curvature)\n",
    "# print(pplan_C0.s)\n",
    "s = np.arange(0, pplan_C0.s[-1], ds)\n",
    "s = np.append(s,pplan_C0.s[-1])\n",
    "\n",
    "# 0 - C0, 1 - C1, 2 - C2\n",
    "data_rx = []\n",
    "data_ry = []\n",
    "data_rk = []\n",
    "\n",
    "# C0\n",
    "rx, ry, rk = [], [], []\n",
    "for i_s in s:\n",
    "    ix, iy = pplan_C0.calc_position(i_s)\n",
    "    rx.append(ix)\n",
    "    ry.append(iy)\n",
    "    rk.append(pplan_C0.calc_curvature(i_s))\n",
    "data_rx.append(rx)\n",
    "data_ry.append(ry)\n",
    "data_rk.append(rk)\n",
    "\n"
   ]
  },
  {
   "cell_type": "code",
   "execution_count": 1,
   "metadata": {},
   "outputs": [
    {
     "ename": "NameError",
     "evalue": "name 'plt' is not defined",
     "output_type": "error",
     "traceback": [
      "\u001b[1;31m---------------------------------------------------------------------------\u001b[0m",
      "\u001b[1;31mNameError\u001b[0m                                 Traceback (most recent call last)",
      "Cell \u001b[1;32mIn[1], line 1\u001b[0m\n\u001b[1;32m----> 1\u001b[0m fig, ax \u001b[39m=\u001b[39m plt\u001b[39m.\u001b[39msubplots(\u001b[39m1\u001b[39m,\u001b[39m1\u001b[39m,figsize \u001b[39m=\u001b[39m (\u001b[39m20\u001b[39m,\u001b[39m10\u001b[39m))\n\u001b[0;32m      2\u001b[0m ax \u001b[39m=\u001b[39m [ax, \u001b[39m1\u001b[39m]\n\u001b[0;32m      3\u001b[0m C0, \u001b[39m=\u001b[39m ax[\u001b[39m0\u001b[39m]\u001b[39m.\u001b[39mplot(data_rx[\u001b[39m0\u001b[39m], data_ry[\u001b[39m0\u001b[39m])\n",
      "\u001b[1;31mNameError\u001b[0m: name 'plt' is not defined"
     ]
    }
   ],
   "source": [
    "fig, ax = plt.subplots(1,1,figsize = (20,10))\n",
    "ax = [ax, 1]\n",
    "C0, = ax[0].plot(data_rx[0], data_ry[0])\n",
    "\n",
    "Points_init, = ax[0].plot(gx, gy, \"or\", label=\"Data points initial\")\n",
    "\n",
    "ax[0].annotate(rf'$[x(0),y(0)]$',\n",
    "                  xy=(gx[0],gy[0]),\n",
    "                  xytext=(gx[0]+3,gy[0]-2),\n",
    "                  size=20, va=\"center\", ha=\"center\",\n",
    "                  bbox=dict(boxstyle=\"round4\", fc=\"w\"),\n",
    "                  arrowprops=dict(arrowstyle=\"-|>\",mutation_scale=25,\n",
    "                                  connectionstyle=\"arc3,rad=-0.2\", fc=\"w\"))\n",
    "fig.suptitle(\"trajectories\")\n",
    "ax[0].set_xlabel(\"$x$\")\n",
    "ax[0].set_ylabel(\"$y$\")\n",
    "ax[0].grid(True)\n",
    "# ax[0].legend([C0,C2,Points_init], ['$\\mathcal{C}^0$ (Linear spline)','$\\mathcal{C}^2 $ (Cubic spline)',\n",
    "#             '$p_{i}\\,\\,\\,i=1,\\dots,10$'],fontsize=\"20\")\n",
    "ax[0].legend([C0,Points_init], ['$\\mathcal{C}^0$ (Linear spline)',\n",
    "            '$p_{i}\\,\\,\\,i=1,\\dots,10$'],fontsize=\"20\",loc='upper right')\n",
    "ax[0].axis('equal')\n",
    "\n",
    "plt.subplots(1,1,figsize = (20,5))\n",
    "C0, = plt.plot(s, data_rk[0], \"-b\", label=\"curvature\")\n",
    "plt.plot(pplan_C0.s, np.zeros(len(pplan_C0.s)), \"or\")\n",
    "for x,y,xnew,ynew in zip(pplan_C0.s[1:-1],np.zeros(len(pplan_C0.s[1:-1])), pplan_C0.s[1:-1],np.ones(len(pplan_C0.s[1:-1]))):\n",
    "    plt.annotate(\"\", xy=(x, y), xytext=(xnew,ynew),size=15, va=\"center\", ha=\"center\",\n",
    "        arrowprops=dict(arrowstyle=\"<|-\",mutation_scale=25,fc=\"w\",color='blue'))\n",
    "    plt.annotate(\"$\\infty$\", xy=(xnew, ynew+ynew*0.05),size=20, va=\"center\", ha=\"center\",color='blue')\n",
    "\n",
    "k_max, = plt.plot(s, [1/Rmax]*len(s), \"--b\")\n",
    "# k_min, = plt.plot(s, [-1/Rmax]*len(s), \"--g\")\n",
    "plt.grid(True)\n",
    "# plt.legend([C0,k_max,k_min],['$\\\\xi$ ($\\mathcal{C}^0$)','$\\\\xi_{max}$','$\\\\xi_{min}$'],fontsize=\"15\",\n",
    "#            loc='lower right')\n",
    "plt.legend([C0,k_max],['$\\\\xi$ ($\\mathcal{C}^0$)','$\\\\xi_{max}$'],fontsize=\"15\",\n",
    "           loc='lower right')\n",
    "plt.xlabel(\"Line length $s,[m]$\")\n",
    "plt.ylabel(\"Curvature $\\\\xi,[1/m]$\")"
   ]
  }
 ],
 "metadata": {
  "kernelspec": {
   "display_name": "learn-multibody-dynamics",
   "language": "python",
   "name": "python3"
  },
  "language_info": {
   "codemirror_mode": {
    "name": "ipython",
    "version": 3
   },
   "file_extension": ".py",
   "mimetype": "text/x-python",
   "name": "python",
   "nbconvert_exporter": "python",
   "pygments_lexer": "ipython3",
   "version": "3.8.18"
  },
  "orig_nbformat": 4
 },
 "nbformat": 4,
 "nbformat_minor": 2
}
