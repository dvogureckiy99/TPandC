{
 "cells": [
  {
   "attachments": {},
   "cell_type": "markdown",
   "metadata": {},
   "source": [
    "#### Лаба 2\n",
    "#### Алгоритмы слежения за траекторией\n",
    "\n",
    "Дано:\n",
    "| Variant | Robot type | $\\xi_0^T=[x_0\\,\\,\\, y_0\\,\\,\\, \\vartheta_0]^T$ | $R_1$ | $\\delta$ | Direction 1 | $\\alpha$ | $t$ | $R_2$ | Direction 3 |\n",
    "| :--------: | :-------: | :-------: | :-------: | :-------: | :-------: | :-------: | :-------: | :-------: | :-------: |\n",
    "| 5 | (1,2) | $[0\\,\\,\\, 3\\,\\,\\,\\frac{2\\pi}{3}]^T$ | 7 | $2\\pi$ | positive | $\\frac{\\pi}{3}$ | 6 |12 |clockwise |\n",
    "\n",
    "положение робота: $\\xi_b=\\begin{bmatrix} x \\\\ y\\\\ \\vartheta \\end{bmatrix}$\n",
    "\n",
    "поворотная матрица: $R_b^m(\\vartheta)=\\begin{bmatrix} cos\\vartheta & sin\\vartheta & 0\\\\ -sin\\vartheta & cos\\vartheta & 0 \\\\ 0 & 0 & 1 \\end{bmatrix}$,  $\\xi_b \\xmapsto{R_b^m} \\xi_m$\n",
    "\n",
    "Позиционная динамическая модель c моментным управлением:\n",
    "$$\\dot z = B(z) u $$\n",
    "$$\\dot u = v$$\n",
    "где $z = \\begin{bmatrix} \\xi \\\\ \\beta_s \\end{bmatrix}$, и $u=\\begin{bmatrix} \\eta \\\\ \\zeta \\end{bmatrix}$, и $v=\\begin{bmatrix} v_1 \\\\ v_2 \\end{bmatrix}$,  $B(z)=\\begin{bmatrix} R^T(\\vartheta)\\Sigma(\\beta_s) & 0 \\\\ 0 & I \\end{bmatrix}$\n",
    "\n",
    "Подробное описание вывода формул в [model and control LAB2.md](./specifications/model_and_control_LAB2.md)"
   ]
  },
  {
   "cell_type": "code",
   "execution_count": 97,
   "metadata": {},
   "outputs": [],
   "source": [
    "import sympy as sm\n",
    "import numpy as np\n",
    "import scipy as sp\n",
    "import matplotlib.pyplot as plt\n",
    "from IPython.display import display, Math\n",
    "import inspect"
   ]
  },
  {
   "cell_type": "code",
   "execution_count": 98,
   "metadata": {},
   "outputs": [],
   "source": [
    "# robot model parameters\n",
    "L = 0.2 # in m"
   ]
  },
  {
   "cell_type": "code",
   "execution_count": 110,
   "metadata": {},
   "outputs": [],
   "source": [
    "beta_s1, beta_s2, theta, x, y, e, eta, zeta_1, zeta_2  = sm.symbols(\"beta_s1 beta_s2 theta x y e eta zeta_1 zeta_2\")\n",
    "Sigma = sm.Matrix( [[-2*L*sm.sin(beta_s1)*sm.sin(beta_s2)],[L*sm.sin(beta_s1+beta_s2)],[sm.sin(beta_s2-beta_s1)]] )\n",
    "R = sm.Matrix( [[sm.cos(theta),sm.sin(theta),0],[-sm.sin(theta),sm.cos(theta),0],[0,0,1]] )\n",
    "xi = sm.Matrix([[x],[y],[theta]])\n",
    "u = sm.Matrix([[eta],[zeta_1],[zeta_2]])\n",
    "z = sm.Matrix([[xi],[beta_s1],[beta_s2]])\n",
    "B = sm.Matrix( [[R.T*Sigma, sm.zeros(3,2)],[sm.zeros(2,1), sm.diag(1,1)]] )"
   ]
  },
  {
   "cell_type": "code",
   "execution_count": 101,
   "metadata": {},
   "outputs": [],
   "source": [
    "def display_expr(expr):\n",
    "    frame = inspect.currentframe()\n",
    "    frame = inspect.getouterframes(frame)[1]\n",
    "    string = inspect.getframeinfo(frame[0]).code_context[0].strip()\n",
    "    args = string[string.find('(') + 1:-1].split(',')\n",
    "    \n",
    "    names = []\n",
    "    for i in args:\n",
    "        if i.find('=') != -1:\n",
    "            names.append(i.split('=')[1].strip())\n",
    "        \n",
    "        else:\n",
    "            names.append(i)\n",
    "    if names[0]=='Sigma':\n",
    "        names[0] = '\\\\Sigma'\n",
    "    if names[0]=='xi':\n",
    "        names[0]='\\\\xi'\n",
    "    str = sm.latex(expr)\n",
    "    str = str.replace('\\\\theta','\\\\vartheta')\n",
    "\n",
    "    display(Math(names[0] + '=' + str))    "
   ]
  },
  {
   "cell_type": "code",
   "execution_count": 111,
   "metadata": {},
   "outputs": [
    {
     "data": {
      "text/latex": [
       "$\\displaystyle \\Sigma=\\left[\\begin{matrix}- 0.4 \\sin{\\left(\\beta_{s1} \\right)} \\sin{\\left(\\beta_{s2} \\right)}\\\\0.2 \\sin{\\left(\\beta_{s1} + \\beta_{s2} \\right)}\\\\- \\sin{\\left(\\beta_{s1} - \\beta_{s2} \\right)}\\end{matrix}\\right]$"
      ],
      "text/plain": [
       "<IPython.core.display.Math object>"
      ]
     },
     "metadata": {},
     "output_type": "display_data"
    },
    {
     "data": {
      "text/latex": [
       "$\\displaystyle R=\\left[\\begin{matrix}\\cos{\\left(\\vartheta \\right)} & \\sin{\\left(\\vartheta \\right)} & 0\\\\- \\sin{\\left(\\vartheta \\right)} & \\cos{\\left(\\vartheta \\right)} & 0\\\\0 & 0 & 1\\end{matrix}\\right]$"
      ],
      "text/plain": [
       "<IPython.core.display.Math object>"
      ]
     },
     "metadata": {},
     "output_type": "display_data"
    },
    {
     "data": {
      "text/latex": [
       "$\\displaystyle B=\\left[\\begin{matrix}- 0.4 \\sin{\\left(\\beta_{s1} \\right)} \\sin{\\left(\\beta_{s2} \\right)} \\cos{\\left(\\vartheta \\right)} - 0.2 \\sin{\\left(\\vartheta \\right)} \\sin{\\left(\\beta_{s1} + \\beta_{s2} \\right)} & 0 & 0\\\\- 0.4 \\sin{\\left(\\beta_{s1} \\right)} \\sin{\\left(\\beta_{s2} \\right)} \\sin{\\left(\\vartheta \\right)} + 0.2 \\sin{\\left(\\beta_{s1} + \\beta_{s2} \\right)} \\cos{\\left(\\vartheta \\right)} & 0 & 0\\\\- \\sin{\\left(\\beta_{s1} - \\beta_{s2} \\right)} & 0 & 0\\\\0 & 1 & 0\\\\0 & 0 & 1\\end{matrix}\\right]$"
      ],
      "text/plain": [
       "<IPython.core.display.Math object>"
      ]
     },
     "metadata": {},
     "output_type": "display_data"
    },
    {
     "data": {
      "text/latex": [
       "$\\displaystyle \\xi=\\left[\\begin{matrix}x\\\\y\\\\\\vartheta\\end{matrix}\\right]$"
      ],
      "text/plain": [
       "<IPython.core.display.Math object>"
      ]
     },
     "metadata": {},
     "output_type": "display_data"
    },
    {
     "data": {
      "text/latex": [
       "$\\displaystyle z=\\left[\\begin{matrix}x\\\\y\\\\\\vartheta\\\\\\beta_{s1}\\\\\\beta_{s2}\\end{matrix}\\right]$"
      ],
      "text/plain": [
       "<IPython.core.display.Math object>"
      ]
     },
     "metadata": {},
     "output_type": "display_data"
    },
    {
     "data": {
      "text/latex": [
       "$\\displaystyle u=\\left[\\begin{matrix}\\eta\\\\\\zeta_{1}\\\\\\zeta_{2}\\end{matrix}\\right]$"
      ],
      "text/plain": [
       "<IPython.core.display.Math object>"
      ]
     },
     "metadata": {},
     "output_type": "display_data"
    }
   ],
   "source": [
    "display_expr(Sigma)\n",
    "display_expr(R)\n",
    "display_expr(B)\n",
    "display_expr(xi)\n",
    "display_expr(z)\n",
    "display_expr(u)"
   ]
  },
  {
   "cell_type": "code",
   "execution_count": 116,
   "metadata": {},
   "outputs": [
    {
     "data": {
      "text/plain": [
       "array([[-0.25543635],\n",
       "       [ 0.53640214],\n",
       "       [ 2.15206827],\n",
       "       [ 8.        ],\n",
       "       [ 0.5       ]])"
      ]
     },
     "execution_count": 116,
     "metadata": {},
     "output_type": "execute_result"
    }
   ],
   "source": [
    "z = (eta,zeta_1,zeta_2,theta,beta_s1,beta_s2)\n",
    "fun_B = sm.lambdify(z, B*u, modules='numpy')\n",
    "fun_B(3,8,0.5,0.1,0.2,1)"
   ]
  },
  {
   "cell_type": "code",
   "execution_count": 119,
   "metadata": {},
   "outputs": [],
   "source": [
    "def Bu(t, z, eta, zeta_1, zeta_2):\n",
    "    x,y,theta,beta_s1,beta_s2 = z\n",
    "    return fun_B(eta,zeta_1,zeta_2,theta,beta_s1,beta_s2)"
   ]
  },
  {
   "cell_type": "code",
   "execution_count": 122,
   "metadata": {},
   "outputs": [
    {
     "data": {
      "text/plain": [
       "array([[-0.84943168],\n",
       "       [-0.8887996 ],\n",
       "       [ 3.36588394],\n",
       "       [ 0.1       ],\n",
       "       [-0.1       ]])"
      ]
     },
     "execution_count": 122,
     "metadata": {},
     "output_type": "execute_result"
    }
   ],
   "source": [
    "Bu(_,(_,_,0.9,1,2),4,0.1,-0.1)"
   ]
  },
  {
   "cell_type": "code",
   "execution_count": null,
   "metadata": {},
   "outputs": [],
   "source": [
    "class model:\n",
    "    def __init__(self, x, y, curvature=\"C0\", Rmin = 0.25):\n",
    "        self.s = []\n",
    "\n",
    "class simulation(model):\n",
    "    def __init__(self, x, y, curvature=\"C0\", Rmin = 0.25):\n",
    "        self."
   ]
  }
 ],
 "metadata": {
  "kernelspec": {
   "display_name": "learn-multibody-dynamics",
   "language": "python",
   "name": "python3"
  },
  "language_info": {
   "codemirror_mode": {
    "name": "ipython",
    "version": 3
   },
   "file_extension": ".py",
   "mimetype": "text/x-python",
   "name": "python",
   "nbconvert_exporter": "python",
   "pygments_lexer": "ipython3",
   "version": "3.8.18"
  },
  "orig_nbformat": 4
 },
 "nbformat": 4,
 "nbformat_minor": 2
}
