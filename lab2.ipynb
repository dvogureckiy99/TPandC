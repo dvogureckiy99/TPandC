{
 "cells": [
  {
   "attachments": {},
   "cell_type": "markdown",
   "metadata": {},
   "source": [
    "#### Лаба 2\n",
    "#### Алгоритмы слежения за траекторией\n",
    "\n",
    "Дано:\n",
    "| Variant | Robot type | $\\xi_0^T=[x_0\\,\\,\\, y_0\\,\\,\\, \\vartheta_0]^T$ | $R_1$ | $\\delta$ | Direction 1 | $\\alpha$ | $t$ | $R_2$ | Direction 3 |\n",
    "| :--------: | :-------: | :-------: | :-------: | :-------: | :-------: | :-------: | :-------: | :-------: | :-------: |\n",
    "| 5 | (1,2) | $[0\\,\\,\\, 3\\,\\,\\,\\frac{2\\pi}{3}]^T$ | 7 | $2\\pi$ | positive | $\\frac{\\pi}{3}$ | 6 |12 |clockwise |\n",
    "\n",
    "положение робота: $\\xi_b=\\begin{bmatrix} x \\\\ y\\\\ \\vartheta \\end{bmatrix}$\n",
    "\n",
    "поворотная матрица: $R_b^m(\\vartheta)=\\begin{bmatrix} cos\\vartheta & sin\\vartheta & 0\\\\ -sin\\vartheta & cos\\vartheta & 0 \\\\ 0 & 0 & 1 \\end{bmatrix}$,  $\\xi_b \\xmapsto{R_b^m} \\xi_m$\n",
    "\n",
    "Позиционная динамическая модель c моментным управлением:\n",
    "$$\\dot z = B(z) u $$\n",
    "$$\\dot u = v$$\n",
    "где $z = \\begin{bmatrix} \\xi \\\\ \\beta_s \\end{bmatrix}$, и $u=\\begin{bmatrix} \\eta \\\\ \\zeta \\end{bmatrix}$, и $v=\\begin{bmatrix} v_1 \\\\ v_2 \\end{bmatrix}$,  $B(z)=\\begin{bmatrix} R^T(\\vartheta)\\Sigma(\\beta_s) & 0 \\\\ 0 & I \\end{bmatrix}$\n",
    "\n",
    "Подробное описание вывода формул в [model and control LAB2.md](./specifications/model_and_control_LAB2.md)"
   ]
  },
  {
   "cell_type": "code",
   "execution_count": 1,
   "metadata": {},
   "outputs": [],
   "source": [
    "import sympy as sm\n",
    "import numpy as np\n",
    "import scipy as sp\n",
    "import matplotlib.pyplot as plt"
   ]
  },
  {
   "cell_type": "code",
   "execution_count": null,
   "metadata": {},
   "outputs": [],
   "source": [
    "# robot model parameters\n"
   ]
  }
 ],
 "metadata": {
  "kernelspec": {
   "display_name": "learn-multibody-dynamics",
   "language": "python",
   "name": "python3"
  },
  "language_info": {
   "codemirror_mode": {
    "name": "ipython",
    "version": 3
   },
   "file_extension": ".py",
   "mimetype": "text/x-python",
   "name": "python",
   "nbconvert_exporter": "python",
   "pygments_lexer": "ipython3",
   "version": "3.8.18"
  },
  "orig_nbformat": 4
 },
 "nbformat": 4,
 "nbformat_minor": 2
}
